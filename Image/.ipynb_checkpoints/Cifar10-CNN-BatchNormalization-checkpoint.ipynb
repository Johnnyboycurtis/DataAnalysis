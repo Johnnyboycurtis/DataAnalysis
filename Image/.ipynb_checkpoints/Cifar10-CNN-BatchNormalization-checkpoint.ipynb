{
 "cells": [
  {
   "cell_type": "code",
   "execution_count": null,
   "metadata": {},
   "outputs": [],
   "source": []
  },
  {
   "cell_type": "code",
   "execution_count": 1,
   "metadata": {},
   "outputs": [
    {
     "name": "stderr",
     "output_type": "stream",
     "text": [
      "/home/jn107154/miniconda3/envs/tfgpu/lib/python3.6/site-packages/h5py/__init__.py:36: FutureWarning: Conversion of the second argument of issubdtype from `float` to `np.floating` is deprecated. In future, it will be treated as `np.float64 == np.dtype(float).type`.\n",
      "  from ._conv import register_converters as _register_converters\n",
      "Using TensorFlow backend.\n"
     ]
    }
   ],
   "source": [
    "from keras import backend as K\n",
    "if K.backend()=='tensorflow':\n",
    "    K.set_image_dim_ordering(\"th\")"
   ]
  },
  {
   "cell_type": "code",
   "execution_count": 2,
   "metadata": {},
   "outputs": [],
   "source": [
    "from datetime import datetime\n",
    "import matplotlib.pyplot as plt\n",
    "import numpy as np\n",
    "import keras\n",
    "from keras.models import Sequential\n",
    "from keras.layers.convolutional import Convolution2D, MaxPooling2D\n",
    "from keras.layers import Activation, Flatten, Dense, Dropout\n",
    "from keras.layers.normalization import BatchNormalization\n",
    "from keras.utils import np_utils"
   ]
  },
  {
   "cell_type": "code",
   "execution_count": 3,
   "metadata": {},
   "outputs": [],
   "source": [
    "def plot_model_history(model_history):\n",
    "    fig, axs = plt.subplots(1,2,figsize=(15,5))\n",
    "    # summarize history for accuracy\n",
    "    axs[0].plot(range(1,len(model_history.history['categorical_accuracy'])+1),model_history.history['categorical_accuracy'])\n",
    "    axs[0].plot(range(1,len(model_history.history['val_categorical_accuracy'])+1),model_history.history['val_categorical_accuracy'])\n",
    "    axs[0].set_title('Model Accuracy')\n",
    "    axs[0].set_ylabel('Accuracy')\n",
    "    axs[0].set_xlabel('Epoch')\n",
    "    axs[0].set_xticks(np.arange(1,len(model_history.history['categorical_accuracy'])+1),len(model_history.history['categorical_accuracy'])/10)\n",
    "    axs[0].legend(['train', 'val'], loc='best')\n",
    "    # summarize history for loss\n",
    "    axs[1].plot(range(1,len(model_history.history['loss'])+1),model_history.history['loss'])\n",
    "    axs[1].plot(range(1,len(model_history.history['val_loss'])+1),model_history.history['val_loss'])\n",
    "    axs[1].set_title('Model Loss')\n",
    "    axs[1].set_ylabel('Loss')\n",
    "    axs[1].set_xlabel('Epoch')\n",
    "    axs[1].set_xticks(np.arange(1,len(model_history.history['loss'])+1),len(model_history.history['loss'])/10)\n",
    "    axs[1].legend(['train', 'val'], loc='best')\n",
    "    plt.show()\n",
    "\n",
    "def accuracy(test_x, test_y, model):\n",
    "    result = model.predict(test_x)\n",
    "    predicted_class = np.argmax(result, axis=1)\n",
    "    true_class = np.argmax(test_y, axis=1)\n",
    "    num_correct = np.sum(predicted_class == true_class) \n",
    "    accuracy = float(num_correct)/result.shape[0]\n",
    "    return (accuracy * 100)\n"
   ]
  },
  {
   "cell_type": "code",
   "execution_count": 4,
   "metadata": {},
   "outputs": [
    {
     "name": "stdout",
     "output_type": "stream",
     "text": [
      "dimensions (50000, 3, 32, 32)\n"
     ]
    }
   ],
   "source": [
    "np.random.seed(2017)\n",
    "\n",
    "#import cifar10\n",
    "from keras.datasets import cifar10\n",
    "(train_features, train_labels), (test_features, test_labels) = cifar10.load_data()\n",
    "num_train, img_channels, img_rows, img_cols =  train_features.shape\n",
    "num_test, _, _, _ =  test_features.shape\n",
    "num_classes = len(np.unique(train_labels))\n",
    "\n",
    "print(\"dimensions\", train_features.shape)"
   ]
  },
  {
   "cell_type": "code",
   "execution_count": null,
   "metadata": {},
   "outputs": [],
   "source": []
  },
  {
   "cell_type": "code",
   "execution_count": null,
   "metadata": {},
   "outputs": [],
   "source": []
  },
  {
   "cell_type": "code",
   "execution_count": 5,
   "metadata": {},
   "outputs": [],
   "source": [
    "# scale the features\n",
    "train_features = train_features.astype('float32')/255\n",
    "test_features = test_features.astype('float32')/255\n",
    "\n",
    "# convert class labels to binary class labels\n",
    "train_labels = np_utils.to_categorical(train_labels, num_classes)\n",
    "test_labels = np_utils.to_categorical(test_labels, num_classes)"
   ]
  },
  {
   "cell_type": "code",
   "execution_count": null,
   "metadata": {},
   "outputs": [],
   "source": []
  },
  {
   "cell_type": "code",
   "execution_count": 6,
   "metadata": {},
   "outputs": [],
   "source": [
    "# optimizer\n",
    "Adadelta = keras.optimizers.Adadelta()\n"
   ]
  },
  {
   "cell_type": "code",
   "execution_count": null,
   "metadata": {},
   "outputs": [],
   "source": []
  },
  {
   "cell_type": "code",
   "execution_count": 7,
   "metadata": {},
   "outputs": [
    {
     "name": "stdout",
     "output_type": "stream",
     "text": [
      "WARNING:tensorflow:From /home/jn107154/miniconda3/envs/tfgpu/lib/python3.6/site-packages/keras/backend/tensorflow_backend.py:1264: calling reduce_prod (from tensorflow.python.ops.math_ops) with keep_dims is deprecated and will be removed in a future version.\n",
      "Instructions for updating:\n",
      "keep_dims is deprecated, use keepdims instead\n"
     ]
    }
   ],
   "source": [
    "# Define the model\n",
    "model = Sequential()\n",
    "model.add(Convolution2D(64, (4, 4), padding='same', input_shape=(3, 32, 32)))\n",
    "model.add(BatchNormalization())\n",
    "model.add(MaxPooling2D(pool_size=(2, 2), strides=2))\n",
    "model.add(Activation('relu'))\n",
    "model.add(Dropout(0.25))\n",
    "model.add(Convolution2D(64, (2, 2), padding='same'))\n",
    "model.add(BatchNormalization())\n",
    "model.add(Activation('relu'))\n",
    "model.add(Dropout(0.25))\n",
    "model.add(Convolution2D(32, (3, 3), padding='same'))\n",
    "model.add(BatchNormalization())\n",
    "model.add(Activation('relu'))\n",
    "model.add(Dropout(0.25))\n",
    "model.add(Convolution2D(32, (3, 3), padding='same'))\n",
    "model.add(BatchNormalization())\n",
    "model.add(Activation('relu'))\n",
    "model.add(MaxPooling2D(pool_size=(2, 2), strides=2))\n",
    "model.add(Dropout(0.15))\n",
    "model.add(Flatten())\n",
    "model.add(Dense(64))\n",
    "model.add(Activation('relu'))\n",
    "model.add(BatchNormalization()) # temp\n",
    "model.add(Dropout(0.25))\n",
    "model.add(Dense(64))\n",
    "model.add(Activation('tanh'))\n",
    "model.add(BatchNormalization()) # temp\n",
    "model.add(Dropout(0.25))\n",
    "model.add(Dense(num_classes, activation='softmax'))"
   ]
  },
  {
   "cell_type": "code",
   "execution_count": 8,
   "metadata": {},
   "outputs": [
    {
     "name": "stdout",
     "output_type": "stream",
     "text": [
      "_________________________________________________________________\n",
      "Layer (type)                 Output Shape              Param #   \n",
      "=================================================================\n",
      "conv2d_1 (Conv2D)            (None, 64, 32, 32)        3136      \n",
      "_________________________________________________________________\n",
      "batch_normalization_1 (Batch (None, 64, 32, 32)        128       \n",
      "_________________________________________________________________\n",
      "max_pooling2d_1 (MaxPooling2 (None, 64, 16, 16)        0         \n",
      "_________________________________________________________________\n",
      "activation_1 (Activation)    (None, 64, 16, 16)        0         \n",
      "_________________________________________________________________\n",
      "dropout_1 (Dropout)          (None, 64, 16, 16)        0         \n",
      "_________________________________________________________________\n",
      "conv2d_2 (Conv2D)            (None, 64, 16, 16)        16448     \n",
      "_________________________________________________________________\n",
      "batch_normalization_2 (Batch (None, 64, 16, 16)        64        \n",
      "_________________________________________________________________\n",
      "activation_2 (Activation)    (None, 64, 16, 16)        0         \n",
      "_________________________________________________________________\n",
      "dropout_2 (Dropout)          (None, 64, 16, 16)        0         \n",
      "_________________________________________________________________\n",
      "conv2d_3 (Conv2D)            (None, 32, 16, 16)        18464     \n",
      "_________________________________________________________________\n",
      "batch_normalization_3 (Batch (None, 32, 16, 16)        64        \n",
      "_________________________________________________________________\n",
      "activation_3 (Activation)    (None, 32, 16, 16)        0         \n",
      "_________________________________________________________________\n",
      "dropout_3 (Dropout)          (None, 32, 16, 16)        0         \n",
      "_________________________________________________________________\n",
      "conv2d_4 (Conv2D)            (None, 32, 16, 16)        9248      \n",
      "_________________________________________________________________\n",
      "batch_normalization_4 (Batch (None, 32, 16, 16)        64        \n",
      "_________________________________________________________________\n",
      "activation_4 (Activation)    (None, 32, 16, 16)        0         \n",
      "_________________________________________________________________\n",
      "max_pooling2d_2 (MaxPooling2 (None, 32, 8, 8)          0         \n",
      "_________________________________________________________________\n",
      "dropout_4 (Dropout)          (None, 32, 8, 8)          0         \n",
      "_________________________________________________________________\n",
      "flatten_1 (Flatten)          (None, 2048)              0         \n",
      "_________________________________________________________________\n",
      "dense_1 (Dense)              (None, 64)                131136    \n",
      "_________________________________________________________________\n",
      "activation_5 (Activation)    (None, 64)                0         \n",
      "_________________________________________________________________\n",
      "dropout_5 (Dropout)          (None, 64)                0         \n",
      "_________________________________________________________________\n",
      "dense_2 (Dense)              (None, 64)                4160      \n",
      "_________________________________________________________________\n",
      "activation_6 (Activation)    (None, 64)                0         \n",
      "_________________________________________________________________\n",
      "dropout_6 (Dropout)          (None, 64)                0         \n",
      "_________________________________________________________________\n",
      "dense_3 (Dense)              (None, 10)                650       \n",
      "=================================================================\n",
      "Total params: 183,562\n",
      "Trainable params: 183,402\n",
      "Non-trainable params: 160\n",
      "_________________________________________________________________\n",
      "None\n"
     ]
    }
   ],
   "source": [
    "print(model.summary())"
   ]
  },
  {
   "cell_type": "code",
   "execution_count": 9,
   "metadata": {},
   "outputs": [
    {
     "name": "stdout",
     "output_type": "stream",
     "text": [
      "WARNING:tensorflow:From /home/jn107154/miniconda3/envs/tfgpu/lib/python3.6/site-packages/keras/backend/tensorflow_backend.py:2885: calling reduce_sum (from tensorflow.python.ops.math_ops) with keep_dims is deprecated and will be removed in a future version.\n",
      "Instructions for updating:\n",
      "keep_dims is deprecated, use keepdims instead\n",
      "WARNING:tensorflow:From /home/jn107154/miniconda3/envs/tfgpu/lib/python3.6/site-packages/keras/backend/tensorflow_backend.py:1349: calling reduce_mean (from tensorflow.python.ops.math_ops) with keep_dims is deprecated and will be removed in a future version.\n",
      "Instructions for updating:\n",
      "keep_dims is deprecated, use keepdims instead\n"
     ]
    }
   ],
   "source": [
    "from keras.metrics import categorical_accuracy\n",
    "model.compile(loss='categorical_crossentropy', optimizer=Adadelta, metrics=[categorical_accuracy])"
   ]
  },
  {
   "cell_type": "code",
   "execution_count": null,
   "metadata": {},
   "outputs": [],
   "source": []
  },
  {
   "cell_type": "code",
   "execution_count": 10,
   "metadata": {},
   "outputs": [
    {
     "name": "stdout",
     "output_type": "stream",
     "text": [
      "Train on 50000 samples, validate on 10000 samples\n",
      "Epoch 1/50\n",
      "50000/50000 [==============================] - 28s 568us/step - loss: 1.9913 - categorical_accuracy: 0.2580 - val_loss: 1.6761 - val_categorical_accuracy: 0.3777\n",
      "Epoch 2/50\n",
      "50000/50000 [==============================] - 26s 523us/step - loss: 1.6491 - categorical_accuracy: 0.3901 - val_loss: 1.5088 - val_categorical_accuracy: 0.4628\n",
      "Epoch 3/50\n",
      "50000/50000 [==============================] - 26s 523us/step - loss: 1.5016 - categorical_accuracy: 0.4517 - val_loss: 1.3437 - val_categorical_accuracy: 0.5083\n",
      "Epoch 4/50\n",
      "50000/50000 [==============================] - 26s 522us/step - loss: 1.4149 - categorical_accuracy: 0.4877 - val_loss: 1.2712 - val_categorical_accuracy: 0.5343\n",
      "Epoch 5/50\n",
      "50000/50000 [==============================] - 26s 523us/step - loss: 1.3420 - categorical_accuracy: 0.5162 - val_loss: 1.1682 - val_categorical_accuracy: 0.5746\n",
      "Epoch 6/50\n",
      "50000/50000 [==============================] - 26s 523us/step - loss: 1.2797 - categorical_accuracy: 0.5426 - val_loss: 1.1341 - val_categorical_accuracy: 0.5971\n",
      "Epoch 7/50\n",
      "50000/50000 [==============================] - 26s 524us/step - loss: 1.2291 - categorical_accuracy: 0.5609 - val_loss: 1.1378 - val_categorical_accuracy: 0.5964\n",
      "Epoch 8/50\n",
      "50000/50000 [==============================] - 26s 524us/step - loss: 1.1874 - categorical_accuracy: 0.5802 - val_loss: 1.0237 - val_categorical_accuracy: 0.6402\n",
      "Epoch 9/50\n",
      "50000/50000 [==============================] - 26s 524us/step - loss: 1.1462 - categorical_accuracy: 0.5963 - val_loss: 1.0249 - val_categorical_accuracy: 0.6395\n",
      "Epoch 10/50\n",
      "50000/50000 [==============================] - 26s 522us/step - loss: 1.1163 - categorical_accuracy: 0.6056 - val_loss: 1.0288 - val_categorical_accuracy: 0.6424\n",
      "Epoch 11/50\n",
      "50000/50000 [==============================] - 26s 524us/step - loss: 1.0852 - categorical_accuracy: 0.6199 - val_loss: 0.9657 - val_categorical_accuracy: 0.6638\n",
      "Epoch 12/50\n",
      "50000/50000 [==============================] - 26s 523us/step - loss: 1.0570 - categorical_accuracy: 0.6311 - val_loss: 0.9413 - val_categorical_accuracy: 0.6657\n",
      "Epoch 13/50\n",
      "50000/50000 [==============================] - 26s 524us/step - loss: 1.0335 - categorical_accuracy: 0.6412 - val_loss: 0.9203 - val_categorical_accuracy: 0.6794\n",
      "Epoch 14/50\n",
      "50000/50000 [==============================] - 26s 525us/step - loss: 1.0048 - categorical_accuracy: 0.6533 - val_loss: 0.9557 - val_categorical_accuracy: 0.6658\n",
      "Epoch 15/50\n",
      "50000/50000 [==============================] - 26s 525us/step - loss: 0.9829 - categorical_accuracy: 0.6589 - val_loss: 0.8724 - val_categorical_accuracy: 0.6990\n",
      "Epoch 16/50\n",
      "50000/50000 [==============================] - 26s 528us/step - loss: 0.9662 - categorical_accuracy: 0.6636 - val_loss: 0.9428 - val_categorical_accuracy: 0.6669\n",
      "Epoch 17/50\n",
      "50000/50000 [==============================] - 26s 528us/step - loss: 0.9483 - categorical_accuracy: 0.6714 - val_loss: 0.9041 - val_categorical_accuracy: 0.6868\n",
      "Epoch 18/50\n",
      "50000/50000 [==============================] - 26s 527us/step - loss: 0.9263 - categorical_accuracy: 0.6816 - val_loss: 0.9306 - val_categorical_accuracy: 0.6798\n",
      "Epoch 19/50\n",
      "50000/50000 [==============================] - 26s 527us/step - loss: 0.9099 - categorical_accuracy: 0.6859 - val_loss: 0.9334 - val_categorical_accuracy: 0.6783\n",
      "Epoch 20/50\n",
      "50000/50000 [==============================] - 26s 529us/step - loss: 0.8954 - categorical_accuracy: 0.6921 - val_loss: 0.8530 - val_categorical_accuracy: 0.7024\n",
      "Epoch 21/50\n",
      "50000/50000 [==============================] - 28s 550us/step - loss: 0.8805 - categorical_accuracy: 0.6959 - val_loss: 0.8126 - val_categorical_accuracy: 0.7127\n",
      "Epoch 22/50\n",
      "50000/50000 [==============================] - 28s 552us/step - loss: 0.8665 - categorical_accuracy: 0.7033 - val_loss: 0.7916 - val_categorical_accuracy: 0.7229\n",
      "Epoch 23/50\n",
      "50000/50000 [==============================] - 28s 552us/step - loss: 0.8548 - categorical_accuracy: 0.7059 - val_loss: 0.7918 - val_categorical_accuracy: 0.7272\n",
      "Epoch 24/50\n",
      "50000/50000 [==============================] - 28s 551us/step - loss: 0.8452 - categorical_accuracy: 0.7094 - val_loss: 0.7618 - val_categorical_accuracy: 0.7348\n",
      "Epoch 25/50\n",
      "50000/50000 [==============================] - 28s 553us/step - loss: 0.8300 - categorical_accuracy: 0.7163 - val_loss: 0.8079 - val_categorical_accuracy: 0.7216\n",
      "Epoch 26/50\n",
      "50000/50000 [==============================] - 28s 552us/step - loss: 0.8167 - categorical_accuracy: 0.7192 - val_loss: 0.7602 - val_categorical_accuracy: 0.7370\n",
      "Epoch 27/50\n",
      "50000/50000 [==============================] - 27s 550us/step - loss: 0.8077 - categorical_accuracy: 0.7237 - val_loss: 0.7835 - val_categorical_accuracy: 0.7316\n",
      "Epoch 28/50\n",
      "50000/50000 [==============================] - 27s 547us/step - loss: 0.7943 - categorical_accuracy: 0.7284 - val_loss: 0.7628 - val_categorical_accuracy: 0.7324\n",
      "Epoch 29/50\n",
      "50000/50000 [==============================] - 27s 549us/step - loss: 0.7814 - categorical_accuracy: 0.7316 - val_loss: 0.7113 - val_categorical_accuracy: 0.7538\n",
      "Epoch 30/50\n",
      "50000/50000 [==============================] - 27s 545us/step - loss: 0.7810 - categorical_accuracy: 0.7337 - val_loss: 0.7114 - val_categorical_accuracy: 0.7529\n",
      "Epoch 31/50\n",
      "50000/50000 [==============================] - 28s 551us/step - loss: 0.7675 - categorical_accuracy: 0.7359 - val_loss: 0.7316 - val_categorical_accuracy: 0.7519\n",
      "Epoch 32/50\n",
      "50000/50000 [==============================] - 27s 547us/step - loss: 0.7589 - categorical_accuracy: 0.7403 - val_loss: 0.7287 - val_categorical_accuracy: 0.7498\n",
      "Epoch 33/50\n",
      "50000/50000 [==============================] - 27s 546us/step - loss: 0.7493 - categorical_accuracy: 0.7447 - val_loss: 0.7039 - val_categorical_accuracy: 0.7591\n",
      "Epoch 34/50\n",
      "50000/50000 [==============================] - 27s 546us/step - loss: 0.7393 - categorical_accuracy: 0.7445 - val_loss: 0.7920 - val_categorical_accuracy: 0.7292\n",
      "Epoch 35/50\n",
      "50000/50000 [==============================] - 27s 548us/step - loss: 0.7294 - categorical_accuracy: 0.7506 - val_loss: 0.7216 - val_categorical_accuracy: 0.7556\n",
      "Epoch 36/50\n",
      "50000/50000 [==============================] - 27s 550us/step - loss: 0.7272 - categorical_accuracy: 0.7498 - val_loss: 0.7250 - val_categorical_accuracy: 0.7542\n",
      "Epoch 37/50\n",
      "50000/50000 [==============================] - 27s 546us/step - loss: 0.7198 - categorical_accuracy: 0.7524 - val_loss: 0.7567 - val_categorical_accuracy: 0.7409\n",
      "Epoch 38/50\n",
      "50000/50000 [==============================] - 27s 548us/step - loss: 0.7151 - categorical_accuracy: 0.7558 - val_loss: 0.6895 - val_categorical_accuracy: 0.7632\n",
      "Epoch 39/50\n",
      "50000/50000 [==============================] - 27s 546us/step - loss: 0.7079 - categorical_accuracy: 0.7601 - val_loss: 0.7265 - val_categorical_accuracy: 0.7485\n",
      "Epoch 40/50\n",
      "50000/50000 [==============================] - 27s 549us/step - loss: 0.7000 - categorical_accuracy: 0.7585 - val_loss: 0.7021 - val_categorical_accuracy: 0.7641\n",
      "Epoch 41/50\n",
      "50000/50000 [==============================] - 27s 549us/step - loss: 0.6918 - categorical_accuracy: 0.7631 - val_loss: 0.7294 - val_categorical_accuracy: 0.7525\n",
      "Epoch 42/50\n",
      "50000/50000 [==============================] - 27s 540us/step - loss: 0.6895 - categorical_accuracy: 0.7665 - val_loss: 0.7265 - val_categorical_accuracy: 0.7575\n",
      "Epoch 43/50\n",
      "50000/50000 [==============================] - 27s 549us/step - loss: 0.6905 - categorical_accuracy: 0.7629 - val_loss: 0.6926 - val_categorical_accuracy: 0.7638\n",
      "Epoch 44/50\n",
      "50000/50000 [==============================] - 27s 545us/step - loss: 0.6807 - categorical_accuracy: 0.7689 - val_loss: 0.6807 - val_categorical_accuracy: 0.7694\n",
      "Epoch 45/50\n",
      "50000/50000 [==============================] - 27s 547us/step - loss: 0.6755 - categorical_accuracy: 0.7689 - val_loss: 0.6750 - val_categorical_accuracy: 0.7764\n",
      "Epoch 46/50\n",
      "50000/50000 [==============================] - 27s 548us/step - loss: 0.6665 - categorical_accuracy: 0.7724 - val_loss: 0.6651 - val_categorical_accuracy: 0.7756\n",
      "Epoch 47/50\n",
      "50000/50000 [==============================] - 27s 545us/step - loss: 0.6597 - categorical_accuracy: 0.7732 - val_loss: 0.6815 - val_categorical_accuracy: 0.7700\n"
     ]
    },
    {
     "name": "stdout",
     "output_type": "stream",
     "text": [
      "Epoch 48/50\n",
      "50000/50000 [==============================] - 27s 550us/step - loss: 0.6641 - categorical_accuracy: 0.7724 - val_loss: 0.7524 - val_categorical_accuracy: 0.7523\n",
      "Epoch 49/50\n",
      "50000/50000 [==============================] - 27s 549us/step - loss: 0.6568 - categorical_accuracy: 0.7745 - val_loss: 0.6996 - val_categorical_accuracy: 0.7675\n",
      "Epoch 50/50\n",
      "50000/50000 [==============================] - 27s 549us/step - loss: 0.6510 - categorical_accuracy: 0.7795 - val_loss: 0.6682 - val_categorical_accuracy: 0.7761\n"
     ]
    }
   ],
   "source": [
    "# Train the model\n",
    "start = datetime.now()\n",
    "model_info = model.fit(train_features, train_labels, \n",
    "                       batch_size=32, epochs=50, \n",
    "                       validation_data = (test_features, test_labels), \n",
    "                       verbose=1)\n",
    "end = datetime.now()"
   ]
  },
  {
   "cell_type": "code",
   "execution_count": 11,
   "metadata": {},
   "outputs": [
    {
     "name": "stdout",
     "output_type": "stream",
     "text": [
      "Model took %0.2f seconds to train 0:22:30.696139\n"
     ]
    }
   ],
   "source": [
    "print(\"Model took %0.2f seconds to train\", (end - start))"
   ]
  },
  {
   "cell_type": "code",
   "execution_count": 12,
   "metadata": {},
   "outputs": [
    {
     "name": "stdout",
     "output_type": "stream",
     "text": [
      "Accuracy on test data is: 77.61\n"
     ]
    }
   ],
   "source": [
    "# compute test accuracy\n",
    "print(\"Accuracy on test data is: %0.2f\"%accuracy(test_features, test_labels, model))"
   ]
  },
  {
   "cell_type": "code",
   "execution_count": null,
   "metadata": {},
   "outputs": [],
   "source": []
  },
  {
   "cell_type": "code",
   "execution_count": 13,
   "metadata": {},
   "outputs": [
    {
     "data": {
      "image/png": "[encoded data removed]",
      "text/plain": [
       "<Figure size 1080x360 with 2 Axes>"
      ]
     },
     "metadata": {},
     "output_type": "display_data"
    }
   ],
   "source": [
    "# plot model history\n",
    "plot_model_history(model_info)"
   ]
  },
  {
   "cell_type": "code",
   "execution_count": null,
   "metadata": {},
   "outputs": [],
   "source": []
  },
  {
   "cell_type": "code",
   "execution_count": 14,
   "metadata": {},
   "outputs": [],
   "source": [
    "Adam = keras.optimizers.Adam(lr=0.0001)"
   ]
  },
  {
   "cell_type": "code",
   "execution_count": 15,
   "metadata": {},
   "outputs": [],
   "source": [
    "model.compile(loss='categorical_crossentropy', optimizer=Adadelta, metrics=[categorical_accuracy])"
   ]
  },
  {
   "cell_type": "code",
   "execution_count": 16,
   "metadata": {},
   "outputs": [
    {
     "name": "stdout",
     "output_type": "stream",
     "text": [
      "Train on 50000 samples, validate on 10000 samples\n",
      "Epoch 1/100\n",
      "50000/50000 [==============================] - 29s 575us/step - loss: 0.6560 - categorical_accuracy: 0.7758 - val_loss: 0.7487 - val_categorical_accuracy: 0.7467\n",
      "Epoch 2/100\n",
      "50000/50000 [==============================] - 27s 547us/step - loss: 0.6413 - categorical_accuracy: 0.7810 - val_loss: 0.6609 - val_categorical_accuracy: 0.7722\n",
      "Epoch 3/100\n",
      "50000/50000 [==============================] - 27s 536us/step - loss: 0.6426 - categorical_accuracy: 0.7806 - val_loss: 0.6810 - val_categorical_accuracy: 0.7735\n",
      "Epoch 4/100\n",
      "50000/50000 [==============================] - 27s 533us/step - loss: 0.6337 - categorical_accuracy: 0.7847 - val_loss: 0.6944 - val_categorical_accuracy: 0.7698\n",
      "Epoch 5/100\n",
      "50000/50000 [==============================] - 26s 528us/step - loss: 0.6356 - categorical_accuracy: 0.7830 - val_loss: 0.6673 - val_categorical_accuracy: 0.7738\n",
      "Epoch 6/100\n",
      "50000/50000 [==============================] - 26s 525us/step - loss: 0.6331 - categorical_accuracy: 0.7849 - val_loss: 0.6377 - val_categorical_accuracy: 0.7882\n",
      "Epoch 7/100\n",
      "50000/50000 [==============================] - 26s 529us/step - loss: 0.6311 - categorical_accuracy: 0.7862 - val_loss: 0.6360 - val_categorical_accuracy: 0.7876\n",
      "Epoch 8/100\n",
      "50000/50000 [==============================] - 26s 527us/step - loss: 0.6238 - categorical_accuracy: 0.7872 - val_loss: 0.6556 - val_categorical_accuracy: 0.7796\n",
      "Epoch 9/100\n",
      "50000/50000 [==============================] - 26s 525us/step - loss: 0.6178 - categorical_accuracy: 0.7896 - val_loss: 0.6454 - val_categorical_accuracy: 0.7812\n",
      "Epoch 10/100\n",
      "50000/50000 [==============================] - 26s 524us/step - loss: 0.6178 - categorical_accuracy: 0.7903 - val_loss: 0.6477 - val_categorical_accuracy: 0.7787\n",
      "Epoch 11/100\n",
      "50000/50000 [==============================] - 26s 525us/step - loss: 0.6177 - categorical_accuracy: 0.7890 - val_loss: 0.6454 - val_categorical_accuracy: 0.7838\n",
      "Epoch 12/100\n",
      "50000/50000 [==============================] - 26s 526us/step - loss: 0.6131 - categorical_accuracy: 0.7913 - val_loss: 0.7610 - val_categorical_accuracy: 0.7441\n",
      "Epoch 13/100\n",
      "50000/50000 [==============================] - 26s 530us/step - loss: 0.6131 - categorical_accuracy: 0.7928 - val_loss: 0.6558 - val_categorical_accuracy: 0.7799\n",
      "Epoch 14/100\n",
      "50000/50000 [==============================] - 26s 527us/step - loss: 0.6057 - categorical_accuracy: 0.7935 - val_loss: 0.7001 - val_categorical_accuracy: 0.7670\n",
      "Epoch 15/100\n",
      "50000/50000 [==============================] - 26s 527us/step - loss: 0.6111 - categorical_accuracy: 0.7918 - val_loss: 0.6382 - val_categorical_accuracy: 0.7830\n",
      "Epoch 16/100\n",
      "50000/50000 [==============================] - 27s 531us/step - loss: 0.6051 - categorical_accuracy: 0.7927 - val_loss: 0.6416 - val_categorical_accuracy: 0.7880\n",
      "Epoch 17/100\n",
      "50000/50000 [==============================] - 27s 532us/step - loss: 0.6033 - categorical_accuracy: 0.7955 - val_loss: 0.6446 - val_categorical_accuracy: 0.7833\n",
      "Epoch 18/100\n",
      "50000/50000 [==============================] - 26s 529us/step - loss: 0.5985 - categorical_accuracy: 0.7962 - val_loss: 0.6602 - val_categorical_accuracy: 0.7813\n",
      "Epoch 19/100\n",
      "50000/50000 [==============================] - 26s 527us/step - loss: 0.5984 - categorical_accuracy: 0.7955 - val_loss: 0.6543 - val_categorical_accuracy: 0.7845\n",
      "Epoch 20/100\n",
      "50000/50000 [==============================] - 27s 533us/step - loss: 0.5949 - categorical_accuracy: 0.7984 - val_loss: 0.6459 - val_categorical_accuracy: 0.7851\n",
      "Epoch 21/100\n",
      "50000/50000 [==============================] - 27s 532us/step - loss: 0.5920 - categorical_accuracy: 0.7961 - val_loss: 0.6143 - val_categorical_accuracy: 0.7919\n",
      "Epoch 22/100\n",
      "50000/50000 [==============================] - 27s 534us/step - loss: 0.5986 - categorical_accuracy: 0.7944 - val_loss: 0.6437 - val_categorical_accuracy: 0.7845\n",
      "Epoch 23/100\n",
      "50000/50000 [==============================] - 27s 530us/step - loss: 0.5870 - categorical_accuracy: 0.8000 - val_loss: 0.6246 - val_categorical_accuracy: 0.7929\n",
      "Epoch 24/100\n",
      "50000/50000 [==============================] - 27s 534us/step - loss: 0.5843 - categorical_accuracy: 0.8015 - val_loss: 0.6210 - val_categorical_accuracy: 0.7918\n",
      "Epoch 25/100\n",
      "50000/50000 [==============================] - 27s 537us/step - loss: 0.5866 - categorical_accuracy: 0.8012 - val_loss: 0.6181 - val_categorical_accuracy: 0.7915\n",
      "Epoch 26/100\n",
      "50000/50000 [==============================] - 26s 527us/step - loss: 0.5802 - categorical_accuracy: 0.8047 - val_loss: 0.6887 - val_categorical_accuracy: 0.7727\n",
      "Epoch 27/100\n",
      "50000/50000 [==============================] - 26s 528us/step - loss: 0.5865 - categorical_accuracy: 0.8016 - val_loss: 0.6630 - val_categorical_accuracy: 0.7753\n",
      "Epoch 28/100\n",
      "50000/50000 [==============================] - 26s 529us/step - loss: 0.5820 - categorical_accuracy: 0.8023 - val_loss: 0.6280 - val_categorical_accuracy: 0.7912\n",
      "Epoch 29/100\n",
      "50000/50000 [==============================] - 27s 533us/step - loss: 0.5759 - categorical_accuracy: 0.8043 - val_loss: 0.6049 - val_categorical_accuracy: 0.7976\n",
      "Epoch 30/100\n",
      "50000/50000 [==============================] - 27s 532us/step - loss: 0.5806 - categorical_accuracy: 0.8029 - val_loss: 0.6414 - val_categorical_accuracy: 0.7836\n",
      "Epoch 31/100\n",
      "50000/50000 [==============================] - 26s 529us/step - loss: 0.5690 - categorical_accuracy: 0.8069 - val_loss: 0.6167 - val_categorical_accuracy: 0.7937\n",
      "Epoch 32/100\n",
      "50000/50000 [==============================] - 26s 526us/step - loss: 0.5763 - categorical_accuracy: 0.8035 - val_loss: 0.6191 - val_categorical_accuracy: 0.7960\n",
      "Epoch 33/100\n",
      "50000/50000 [==============================] - 26s 527us/step - loss: 0.5710 - categorical_accuracy: 0.8053 - val_loss: 0.6535 - val_categorical_accuracy: 0.7864\n",
      "Epoch 34/100\n",
      "50000/50000 [==============================] - 26s 526us/step - loss: 0.5693 - categorical_accuracy: 0.8066 - val_loss: 0.6256 - val_categorical_accuracy: 0.7908\n",
      "Epoch 35/100\n",
      "50000/50000 [==============================] - 27s 530us/step - loss: 0.5644 - categorical_accuracy: 0.8087 - val_loss: 0.7028 - val_categorical_accuracy: 0.7735\n",
      "Epoch 36/100\n",
      "50000/50000 [==============================] - 27s 533us/step - loss: 0.5698 - categorical_accuracy: 0.8072 - val_loss: 0.6177 - val_categorical_accuracy: 0.7947\n",
      "Epoch 37/100\n",
      "50000/50000 [==============================] - 27s 533us/step - loss: 0.5661 - categorical_accuracy: 0.8089 - val_loss: 0.6113 - val_categorical_accuracy: 0.7983\n",
      "Epoch 38/100\n",
      "50000/50000 [==============================] - 26s 527us/step - loss: 0.5694 - categorical_accuracy: 0.8076 - val_loss: 0.6492 - val_categorical_accuracy: 0.7857\n",
      "Epoch 39/100\n",
      "50000/50000 [==============================] - 27s 533us/step - loss: 0.5611 - categorical_accuracy: 0.8093 - val_loss: 0.6156 - val_categorical_accuracy: 0.7929\n",
      "Epoch 40/100\n",
      "50000/50000 [==============================] - 27s 534us/step - loss: 0.5636 - categorical_accuracy: 0.8084 - val_loss: 0.6394 - val_categorical_accuracy: 0.7873\n",
      "Epoch 41/100\n",
      "50000/50000 [==============================] - 26s 525us/step - loss: 0.5579 - categorical_accuracy: 0.8117 - val_loss: 0.6271 - val_categorical_accuracy: 0.7909\n",
      "Epoch 42/100\n",
      "50000/50000 [==============================] - 26s 524us/step - loss: 0.5572 - categorical_accuracy: 0.8103 - val_loss: 0.6483 - val_categorical_accuracy: 0.7827\n",
      "Epoch 43/100\n",
      "50000/50000 [==============================] - 26s 525us/step - loss: 0.5590 - categorical_accuracy: 0.8090 - val_loss: 0.6237 - val_categorical_accuracy: 0.7921\n",
      "Epoch 44/100\n",
      "50000/50000 [==============================] - 26s 525us/step - loss: 0.5511 - categorical_accuracy: 0.8119 - val_loss: 0.5995 - val_categorical_accuracy: 0.7997\n",
      "Epoch 45/100\n",
      "50000/50000 [==============================] - 26s 522us/step - loss: 0.5525 - categorical_accuracy: 0.8127 - val_loss: 0.6101 - val_categorical_accuracy: 0.7956\n",
      "Epoch 46/100\n",
      "50000/50000 [==============================] - 26s 520us/step - loss: 0.5493 - categorical_accuracy: 0.8151 - val_loss: 0.6097 - val_categorical_accuracy: 0.7992\n",
      "Epoch 47/100\n"
     ]
    },
    {
     "name": "stdout",
     "output_type": "stream",
     "text": [
      "50000/50000 [==============================] - 26s 517us/step - loss: 0.5533 - categorical_accuracy: 0.8111 - val_loss: 0.7385 - val_categorical_accuracy: 0.7670\n",
      "Epoch 48/100\n",
      "50000/50000 [==============================] - 26s 518us/step - loss: 0.5560 - categorical_accuracy: 0.8117 - val_loss: 0.6345 - val_categorical_accuracy: 0.7894\n",
      "Epoch 49/100\n",
      "50000/50000 [==============================] - 26s 528us/step - loss: 0.5523 - categorical_accuracy: 0.8115 - val_loss: 0.6038 - val_categorical_accuracy: 0.7973\n",
      "Epoch 50/100\n",
      "50000/50000 [==============================] - 27s 531us/step - loss: 0.5440 - categorical_accuracy: 0.8135 - val_loss: 0.6649 - val_categorical_accuracy: 0.7826\n",
      "Epoch 51/100\n",
      "50000/50000 [==============================] - 26s 525us/step - loss: 0.5492 - categorical_accuracy: 0.8144 - val_loss: 0.6149 - val_categorical_accuracy: 0.7980\n",
      "Epoch 52/100\n",
      "50000/50000 [==============================] - 26s 526us/step - loss: 0.5456 - categorical_accuracy: 0.8141 - val_loss: 0.6039 - val_categorical_accuracy: 0.8016\n",
      "Epoch 53/100\n",
      "50000/50000 [==============================] - 26s 527us/step - loss: 0.5465 - categorical_accuracy: 0.8147 - val_loss: 0.6827 - val_categorical_accuracy: 0.7799\n",
      "Epoch 54/100\n",
      "50000/50000 [==============================] - 26s 527us/step - loss: 0.5479 - categorical_accuracy: 0.8146 - val_loss: 0.6027 - val_categorical_accuracy: 0.7980\n",
      "Epoch 55/100\n",
      "50000/50000 [==============================] - 26s 526us/step - loss: 0.5454 - categorical_accuracy: 0.8144 - val_loss: 0.6607 - val_categorical_accuracy: 0.7834\n",
      "Epoch 56/100\n",
      "50000/50000 [==============================] - 26s 529us/step - loss: 0.5412 - categorical_accuracy: 0.8175 - val_loss: 0.6110 - val_categorical_accuracy: 0.7959\n",
      "Epoch 57/100\n",
      "50000/50000 [==============================] - 26s 526us/step - loss: 0.5451 - categorical_accuracy: 0.8144 - val_loss: 0.5960 - val_categorical_accuracy: 0.8034\n",
      "Epoch 58/100\n",
      "50000/50000 [==============================] - 26s 526us/step - loss: 0.5431 - categorical_accuracy: 0.8155 - val_loss: 0.5986 - val_categorical_accuracy: 0.7990\n",
      "Epoch 59/100\n",
      "50000/50000 [==============================] - 26s 528us/step - loss: 0.5409 - categorical_accuracy: 0.8155 - val_loss: 0.6016 - val_categorical_accuracy: 0.8011\n",
      "Epoch 60/100\n",
      "50000/50000 [==============================] - 26s 525us/step - loss: 0.5400 - categorical_accuracy: 0.8168 - val_loss: 0.6019 - val_categorical_accuracy: 0.7991\n",
      "Epoch 61/100\n",
      "50000/50000 [==============================] - 26s 528us/step - loss: 0.5383 - categorical_accuracy: 0.8150 - val_loss: 0.6196 - val_categorical_accuracy: 0.7966\n",
      "Epoch 62/100\n",
      "50000/50000 [==============================] - 26s 527us/step - loss: 0.5380 - categorical_accuracy: 0.8187 - val_loss: 0.6193 - val_categorical_accuracy: 0.7939\n",
      "Epoch 63/100\n",
      "50000/50000 [==============================] - 26s 528us/step - loss: 0.5380 - categorical_accuracy: 0.8177 - val_loss: 0.6192 - val_categorical_accuracy: 0.7949\n",
      "Epoch 64/100\n",
      "50000/50000 [==============================] - 26s 526us/step - loss: 0.5384 - categorical_accuracy: 0.8176 - val_loss: 0.6056 - val_categorical_accuracy: 0.8005\n",
      "Epoch 65/100\n",
      "50000/50000 [==============================] - 26s 525us/step - loss: 0.5364 - categorical_accuracy: 0.8196 - val_loss: 0.5905 - val_categorical_accuracy: 0.8037\n",
      "Epoch 66/100\n",
      "50000/50000 [==============================] - 26s 526us/step - loss: 0.5337 - categorical_accuracy: 0.8179 - val_loss: 0.5971 - val_categorical_accuracy: 0.8002\n",
      "Epoch 67/100\n",
      "50000/50000 [==============================] - 26s 524us/step - loss: 0.5375 - categorical_accuracy: 0.8173 - val_loss: 0.5852 - val_categorical_accuracy: 0.8065\n",
      "Epoch 68/100\n",
      "50000/50000 [==============================] - 26s 522us/step - loss: 0.5352 - categorical_accuracy: 0.8190 - val_loss: 0.5947 - val_categorical_accuracy: 0.8009\n",
      "Epoch 69/100\n",
      "50000/50000 [==============================] - 26s 527us/step - loss: 0.5311 - categorical_accuracy: 0.8207 - val_loss: 0.5916 - val_categorical_accuracy: 0.8059\n",
      "Epoch 70/100\n",
      "50000/50000 [==============================] - 26s 526us/step - loss: 0.5297 - categorical_accuracy: 0.8201 - val_loss: 0.6091 - val_categorical_accuracy: 0.7985\n",
      "Epoch 71/100\n",
      "50000/50000 [==============================] - 26s 524us/step - loss: 0.5263 - categorical_accuracy: 0.8208 - val_loss: 0.5977 - val_categorical_accuracy: 0.7982\n",
      "Epoch 72/100\n",
      "50000/50000 [==============================] - 26s 521us/step - loss: 0.5235 - categorical_accuracy: 0.8221 - val_loss: 0.5937 - val_categorical_accuracy: 0.7997\n",
      "Epoch 73/100\n",
      "50000/50000 [==============================] - 26s 524us/step - loss: 0.5313 - categorical_accuracy: 0.8203 - val_loss: 0.6327 - val_categorical_accuracy: 0.7933\n",
      "Epoch 74/100\n",
      "50000/50000 [==============================] - 26s 522us/step - loss: 0.5263 - categorical_accuracy: 0.8220 - val_loss: 0.6205 - val_categorical_accuracy: 0.7921\n",
      "Epoch 75/100\n",
      "50000/50000 [==============================] - 26s 521us/step - loss: 0.5264 - categorical_accuracy: 0.8233 - val_loss: 0.5897 - val_categorical_accuracy: 0.8016\n",
      "Epoch 76/100\n",
      "50000/50000 [==============================] - 26s 523us/step - loss: 0.5272 - categorical_accuracy: 0.8198 - val_loss: 0.5909 - val_categorical_accuracy: 0.8025\n",
      "Epoch 77/100\n",
      "50000/50000 [==============================] - 26s 521us/step - loss: 0.5238 - categorical_accuracy: 0.8216 - val_loss: 0.5958 - val_categorical_accuracy: 0.8039\n",
      "Epoch 78/100\n",
      "50000/50000 [==============================] - 26s 520us/step - loss: 0.5284 - categorical_accuracy: 0.8214 - val_loss: 0.6164 - val_categorical_accuracy: 0.7930\n",
      "Epoch 79/100\n",
      "50000/50000 [==============================] - 26s 521us/step - loss: 0.5231 - categorical_accuracy: 0.8225 - val_loss: 0.5897 - val_categorical_accuracy: 0.8013\n",
      "Epoch 80/100\n",
      "50000/50000 [==============================] - 26s 517us/step - loss: 0.5259 - categorical_accuracy: 0.8226 - val_loss: 0.5895 - val_categorical_accuracy: 0.8029\n",
      "Epoch 81/100\n",
      "50000/50000 [==============================] - 26s 522us/step - loss: 0.5245 - categorical_accuracy: 0.8212 - val_loss: 0.5953 - val_categorical_accuracy: 0.7970\n",
      "Epoch 82/100\n",
      "50000/50000 [==============================] - 26s 522us/step - loss: 0.5197 - categorical_accuracy: 0.8222 - val_loss: 0.6266 - val_categorical_accuracy: 0.7981\n",
      "Epoch 83/100\n",
      "50000/50000 [==============================] - 26s 521us/step - loss: 0.5192 - categorical_accuracy: 0.8211 - val_loss: 0.6062 - val_categorical_accuracy: 0.7968\n",
      "Epoch 84/100\n",
      "50000/50000 [==============================] - 26s 520us/step - loss: 0.5205 - categorical_accuracy: 0.8244 - val_loss: 0.5788 - val_categorical_accuracy: 0.8080\n",
      "Epoch 85/100\n",
      "50000/50000 [==============================] - 26s 520us/step - loss: 0.5246 - categorical_accuracy: 0.8233 - val_loss: 0.5931 - val_categorical_accuracy: 0.8020\n",
      "Epoch 86/100\n",
      "50000/50000 [==============================] - 26s 521us/step - loss: 0.5198 - categorical_accuracy: 0.8233 - val_loss: 0.5942 - val_categorical_accuracy: 0.8010\n",
      "Epoch 87/100\n",
      "50000/50000 [==============================] - 26s 517us/step - loss: 0.5175 - categorical_accuracy: 0.8260 - val_loss: 0.5974 - val_categorical_accuracy: 0.8010\n",
      "Epoch 88/100\n",
      "50000/50000 [==============================] - 26s 519us/step - loss: 0.5160 - categorical_accuracy: 0.8261 - val_loss: 0.5915 - val_categorical_accuracy: 0.8004\n",
      "Epoch 89/100\n",
      "50000/50000 [==============================] - 26s 518us/step - loss: 0.5209 - categorical_accuracy: 0.8237 - val_loss: 0.5939 - val_categorical_accuracy: 0.7981\n",
      "Epoch 90/100\n",
      "50000/50000 [==============================] - 26s 522us/step - loss: 0.5180 - categorical_accuracy: 0.8245 - val_loss: 0.7357 - val_categorical_accuracy: 0.7610\n",
      "Epoch 91/100\n",
      "50000/50000 [==============================] - 26s 519us/step - loss: 0.5172 - categorical_accuracy: 0.8254 - val_loss: 0.5842 - val_categorical_accuracy: 0.8083\n",
      "Epoch 92/100\n",
      "50000/50000 [==============================] - 26s 519us/step - loss: 0.5202 - categorical_accuracy: 0.8227 - val_loss: 0.5922 - val_categorical_accuracy: 0.7986\n",
      "Epoch 93/100\n",
      "50000/50000 [==============================] - 26s 518us/step - loss: 0.5127 - categorical_accuracy: 0.8252 - val_loss: 0.5867 - val_categorical_accuracy: 0.8034\n"
     ]
    },
    {
     "name": "stdout",
     "output_type": "stream",
     "text": [
      "Epoch 94/100\n",
      "50000/50000 [==============================] - 26s 523us/step - loss: 0.5129 - categorical_accuracy: 0.8269 - val_loss: 0.5958 - val_categorical_accuracy: 0.7982\n",
      "Epoch 95/100\n",
      "50000/50000 [==============================] - 26s 526us/step - loss: 0.5145 - categorical_accuracy: 0.8272 - val_loss: 0.5722 - val_categorical_accuracy: 0.8070\n",
      "Epoch 96/100\n",
      "50000/50000 [==============================] - 26s 528us/step - loss: 0.5130 - categorical_accuracy: 0.8273 - val_loss: 0.6186 - val_categorical_accuracy: 0.7946\n",
      "Epoch 97/100\n",
      "50000/50000 [==============================] - 26s 528us/step - loss: 0.5141 - categorical_accuracy: 0.8268 - val_loss: 0.6204 - val_categorical_accuracy: 0.7929\n",
      "Epoch 98/100\n",
      "50000/50000 [==============================] - 26s 526us/step - loss: 0.5105 - categorical_accuracy: 0.8280 - val_loss: 0.5840 - val_categorical_accuracy: 0.8019\n",
      "Epoch 99/100\n",
      "50000/50000 [==============================] - 26s 526us/step - loss: 0.5187 - categorical_accuracy: 0.8253 - val_loss: 0.6152 - val_categorical_accuracy: 0.7937\n",
      "Epoch 100/100\n",
      "50000/50000 [==============================] - 26s 527us/step - loss: 0.5107 - categorical_accuracy: 0.8277 - val_loss: 0.5920 - val_categorical_accuracy: 0.8009\n"
     ]
    }
   ],
   "source": [
    "# Train the model\n",
    "start = datetime.now()\n",
    "model_info_2 = model.fit(train_features, train_labels, \n",
    "                       batch_size=32, epochs=100, \n",
    "                       validation_data = (test_features, test_labels), \n",
    "                       verbose=1)\n",
    "end = datetime.now()"
   ]
  },
  {
   "cell_type": "code",
   "execution_count": null,
   "metadata": {},
   "outputs": [],
   "source": []
  }
 ],
 "metadata": {
  "kernelspec": {
   "display_name": "Python 3",
   "language": "python",
   "name": "python3"
  },
  "language_info": {
   "codemirror_mode": {
    "name": "ipython",
    "version": 3
   },
   "file_extension": ".py",
   "mimetype": "text/x-python",
   "name": "python",
   "nbconvert_exporter": "python",
   "pygments_lexer": "ipython3",
   "version": "3.6.5"
  }
 },
 "nbformat": 4,
 "nbformat_minor": 2
}
