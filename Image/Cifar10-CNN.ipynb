{
 "cells": [
  {
   "cell_type": "code",
   "execution_count": null,
   "metadata": {},
   "outputs": [],
   "source": []
  },
  {
   "cell_type": "code",
   "execution_count": 1,
   "metadata": {},
   "outputs": [
    {
     "name": "stderr",
     "output_type": "stream",
     "text": [
      "/home/jn107154/miniconda3/envs/tfgpu/lib/python3.6/site-packages/h5py/__init__.py:36: FutureWarning: Conversion of the second argument of issubdtype from `float` to `np.floating` is deprecated. In future, it will be treated as `np.float64 == np.dtype(float).type`.\n",
      "  from ._conv import register_converters as _register_converters\n",
      "Using TensorFlow backend.\n"
     ]
    }
   ],
   "source": [
    "from keras import backend as K\n",
    "if K.backend()=='tensorflow':\n",
    "    K.set_image_dim_ordering(\"th\")"
   ]
  },
  {
   "cell_type": "code",
   "execution_count": 2,
   "metadata": {},
   "outputs": [],
   "source": [
    "from datetime import datetime\n",
    "import matplotlib.pyplot as plt\n",
    "import numpy as np\n",
    "import keras\n",
    "from keras.models import Sequential\n",
    "from keras.layers.convolutional import Convolution2D, MaxPooling2D\n",
    "from keras.layers import Activation, Flatten, Dense, Dropout\n",
    "from keras.layers.normalization import BatchNormalization\n",
    "from keras.utils import np_utils"
   ]
  },
  {
   "cell_type": "code",
   "execution_count": 3,
   "metadata": {},
   "outputs": [],
   "source": [
    "def plot_model_history(model_history):\n",
    "    fig, axs = plt.subplots(1,2,figsize=(15,5))\n",
    "    # summarize history for accuracy\n",
    "    axs[0].plot(range(1,len(model_history.history['categorical_accuracy'])+1),model_history.history['categorical_accuracy'])\n",
    "    axs[0].plot(range(1,len(model_history.history['val_categorical_accuracy'])+1),model_history.history['val_categorical_accuracy'])\n",
    "    axs[0].set_title('Model Accuracy')\n",
    "    axs[0].set_ylabel('Accuracy')\n",
    "    axs[0].set_xlabel('Epoch')\n",
    "    axs[0].set_xticks(np.arange(1,len(model_history.history['categorical_accuracy'])+1),len(model_history.history['categorical_accuracy'])/10)\n",
    "    axs[0].legend(['train', 'val'], loc='best')\n",
    "    # summarize history for loss\n",
    "    axs[1].plot(range(1,len(model_history.history['loss'])+1),model_history.history['loss'])\n",
    "    axs[1].plot(range(1,len(model_history.history['val_loss'])+1),model_history.history['val_loss'])\n",
    "    axs[1].set_title('Model Loss')\n",
    "    axs[1].set_ylabel('Loss')\n",
    "    axs[1].set_xlabel('Epoch')\n",
    "    axs[1].set_xticks(np.arange(1,len(model_history.history['loss'])+1),len(model_history.history['loss'])/10)\n",
    "    axs[1].legend(['train', 'val'], loc='best')\n",
    "    plt.show()\n",
    "\n",
    "def accuracy(test_x, test_y, model):\n",
    "    result = model.predict(test_x)\n",
    "    predicted_class = np.argmax(result, axis=1)\n",
    "    true_class = np.argmax(test_y, axis=1)\n",
    "    num_correct = np.sum(predicted_class == true_class) \n",
    "    accuracy = float(num_correct)/result.shape[0]\n",
    "    return (accuracy * 100)\n"
   ]
  },
  {
   "cell_type": "code",
   "execution_count": 4,
   "metadata": {},
   "outputs": [
    {
     "name": "stdout",
     "output_type": "stream",
     "text": [
      "dimensions (50000, 3, 32, 32)\n"
     ]
    }
   ],
   "source": [
    "np.random.seed(2017)\n",
    "\n",
    "#import cifar10\n",
    "from keras.datasets import cifar10\n",
    "(train_features, train_labels), (test_features, test_labels) = cifar10.load_data()\n",
    "num_train, img_channels, img_rows, img_cols =  train_features.shape\n",
    "num_test, _, _, _ =  test_features.shape\n",
    "num_classes = len(np.unique(train_labels))\n",
    "\n",
    "print(\"dimensions\", train_features.shape)"
   ]
  },
  {
   "cell_type": "code",
   "execution_count": null,
   "metadata": {},
   "outputs": [],
   "source": []
  },
  {
   "cell_type": "code",
   "execution_count": null,
   "metadata": {},
   "outputs": [],
   "source": []
  },
  {
   "cell_type": "code",
   "execution_count": 5,
   "metadata": {},
   "outputs": [],
   "source": [
    "# scale the features\n",
    "train_features = train_features.astype('float32')/255\n",
    "test_features = test_features.astype('float32')/255\n",
    "\n",
    "# convert class labels to binary class labels\n",
    "train_labels = np_utils.to_categorical(train_labels, num_classes)\n",
    "test_labels = np_utils.to_categorical(test_labels, num_classes)"
   ]
  },
  {
   "cell_type": "code",
   "execution_count": null,
   "metadata": {},
   "outputs": [],
   "source": []
  },
  {
   "cell_type": "code",
   "execution_count": 6,
   "metadata": {},
   "outputs": [],
   "source": [
    "# optimizer\n",
    "Adadelta = keras.optimizers.Adadelta()\n"
   ]
  },
  {
   "cell_type": "code",
   "execution_count": null,
   "metadata": {},
   "outputs": [],
   "source": []
  },
  {
   "cell_type": "code",
   "execution_count": 7,
   "metadata": {},
   "outputs": [
    {
     "name": "stdout",
     "output_type": "stream",
     "text": [
      "WARNING:tensorflow:From /home/jn107154/miniconda3/envs/tfgpu/lib/python3.6/site-packages/keras/backend/tensorflow_backend.py:1264: calling reduce_prod (from tensorflow.python.ops.math_ops) with keep_dims is deprecated and will be removed in a future version.\n",
      "Instructions for updating:\n",
      "keep_dims is deprecated, use keepdims instead\n"
     ]
    }
   ],
   "source": [
    "# Define the model\n",
    "model = Sequential()\n",
    "model.add(Convolution2D(64, (4, 4), padding='same', input_shape=(3, 32, 32)))\n",
    "model.add(MaxPooling2D(pool_size=(2, 2), strides=2))\n",
    "model.add(Activation('relu'))\n",
    "model.add(Dropout(0.25))\n",
    "model.add(Convolution2D(64, (2, 2), padding='same'))\n",
    "model.add(Activation('relu'))\n",
    "model.add(Dropout(0.25))\n",
    "model.add(Convolution2D(32, (3, 3), padding='same'))\n",
    "model.add(Activation('relu'))\n",
    "model.add(Dropout(0.25))\n",
    "model.add(Convolution2D(32, (3, 3), padding='same'))\n",
    "model.add(Activation('relu'))\n",
    "model.add(MaxPooling2D(pool_size=(2, 2), strides=2))\n",
    "model.add(Dropout(0.15))\n",
    "model.add(Flatten())\n",
    "model.add(Dense(64))\n",
    "model.add(Activation('relu'))\n",
    "model.add(Dropout(0.25))\n",
    "model.add(Dense(64))\n",
    "model.add(Activation('tanh'))\n",
    "model.add(Dropout(0.25))\n",
    "model.add(Dense(num_classes, activation='softmax'))"
   ]
  },
  {
   "cell_type": "code",
   "execution_count": 8,
   "metadata": {},
   "outputs": [
    {
     "name": "stdout",
     "output_type": "stream",
     "text": [
      "_________________________________________________________________\n",
      "Layer (type)                 Output Shape              Param #   \n",
      "=================================================================\n",
      "conv2d_1 (Conv2D)            (None, 64, 32, 32)        3136      \n",
      "_________________________________________________________________\n",
      "max_pooling2d_1 (MaxPooling2 (None, 64, 16, 16)        0         \n",
      "_________________________________________________________________\n",
      "activation_1 (Activation)    (None, 64, 16, 16)        0         \n",
      "_________________________________________________________________\n",
      "dropout_1 (Dropout)          (None, 64, 16, 16)        0         \n",
      "_________________________________________________________________\n",
      "conv2d_2 (Conv2D)            (None, 64, 16, 16)        16448     \n",
      "_________________________________________________________________\n",
      "activation_2 (Activation)    (None, 64, 16, 16)        0         \n",
      "_________________________________________________________________\n",
      "dropout_2 (Dropout)          (None, 64, 16, 16)        0         \n",
      "_________________________________________________________________\n",
      "conv2d_3 (Conv2D)            (None, 32, 16, 16)        18464     \n",
      "_________________________________________________________________\n",
      "activation_3 (Activation)    (None, 32, 16, 16)        0         \n",
      "_________________________________________________________________\n",
      "dropout_3 (Dropout)          (None, 32, 16, 16)        0         \n",
      "_________________________________________________________________\n",
      "conv2d_4 (Conv2D)            (None, 32, 16, 16)        9248      \n",
      "_________________________________________________________________\n",
      "activation_4 (Activation)    (None, 32, 16, 16)        0         \n",
      "_________________________________________________________________\n",
      "max_pooling2d_2 (MaxPooling2 (None, 32, 8, 8)          0         \n",
      "_________________________________________________________________\n",
      "dropout_4 (Dropout)          (None, 32, 8, 8)          0         \n",
      "_________________________________________________________________\n",
      "flatten_1 (Flatten)          (None, 2048)              0         \n",
      "_________________________________________________________________\n",
      "dense_1 (Dense)              (None, 64)                131136    \n",
      "_________________________________________________________________\n",
      "activation_5 (Activation)    (None, 64)                0         \n",
      "_________________________________________________________________\n",
      "dropout_5 (Dropout)          (None, 64)                0         \n",
      "_________________________________________________________________\n",
      "dense_2 (Dense)              (None, 64)                4160      \n",
      "_________________________________________________________________\n",
      "activation_6 (Activation)    (None, 64)                0         \n",
      "_________________________________________________________________\n",
      "dropout_6 (Dropout)          (None, 64)                0         \n",
      "_________________________________________________________________\n",
      "dense_3 (Dense)              (None, 10)                650       \n",
      "=================================================================\n",
      "Total params: 183,242\n",
      "Trainable params: 183,242\n",
      "Non-trainable params: 0\n",
      "_________________________________________________________________\n",
      "None\n"
     ]
    }
   ],
   "source": [
    "print(model.summary())"
   ]
  },
  {
   "cell_type": "code",
   "execution_count": 9,
   "metadata": {},
   "outputs": [
    {
     "name": "stdout",
     "output_type": "stream",
     "text": [
      "WARNING:tensorflow:From /home/jn107154/miniconda3/envs/tfgpu/lib/python3.6/site-packages/keras/backend/tensorflow_backend.py:2885: calling reduce_sum (from tensorflow.python.ops.math_ops) with keep_dims is deprecated and will be removed in a future version.\n",
      "Instructions for updating:\n",
      "keep_dims is deprecated, use keepdims instead\n",
      "WARNING:tensorflow:From /home/jn107154/miniconda3/envs/tfgpu/lib/python3.6/site-packages/keras/backend/tensorflow_backend.py:1349: calling reduce_mean (from tensorflow.python.ops.math_ops) with keep_dims is deprecated and will be removed in a future version.\n",
      "Instructions for updating:\n",
      "keep_dims is deprecated, use keepdims instead\n"
     ]
    }
   ],
   "source": [
    "from keras.metrics import categorical_accuracy\n",
    "model.compile(loss='categorical_crossentropy', optimizer=Adadelta, metrics=[categorical_accuracy])"
   ]
  },
  {
   "cell_type": "code",
   "execution_count": null,
   "metadata": {},
   "outputs": [],
   "source": []
  },
  {
   "cell_type": "code",
   "execution_count": 10,
   "metadata": {},
   "outputs": [
    {
     "name": "stdout",
     "output_type": "stream",
     "text": [
      "Train on 50000 samples, validate on 10000 samples\n",
      "Epoch 1/100\n",
      "50000/50000 [==============================] - 19s 375us/step - loss: 1.8274 - categorical_accuracy: 0.3269 - val_loss: 1.4996 - val_categorical_accuracy: 0.4498\n",
      "Epoch 2/100\n",
      "50000/50000 [==============================] - 17s 350us/step - loss: 1.5060 - categorical_accuracy: 0.4532 - val_loss: 1.3400 - val_categorical_accuracy: 0.5123\n",
      "Epoch 3/100\n",
      "50000/50000 [==============================] - 17s 344us/step - loss: 1.3762 - categorical_accuracy: 0.5004 - val_loss: 1.2173 - val_categorical_accuracy: 0.5602\n",
      "Epoch 4/100\n",
      "50000/50000 [==============================] - 17s 345us/step - loss: 1.2846 - categorical_accuracy: 0.5411 - val_loss: 1.2020 - val_categorical_accuracy: 0.5704\n",
      "Epoch 5/100\n",
      "50000/50000 [==============================] - 17s 344us/step - loss: 1.2133 - categorical_accuracy: 0.5690 - val_loss: 1.0779 - val_categorical_accuracy: 0.6163\n",
      "Epoch 6/100\n",
      "50000/50000 [==============================] - 17s 344us/step - loss: 1.1527 - categorical_accuracy: 0.5902 - val_loss: 1.0634 - val_categorical_accuracy: 0.6208\n",
      "Epoch 7/100\n",
      "50000/50000 [==============================] - 17s 346us/step - loss: 1.1150 - categorical_accuracy: 0.6074 - val_loss: 1.2025 - val_categorical_accuracy: 0.5782\n",
      "Epoch 8/100\n",
      "50000/50000 [==============================] - 17s 344us/step - loss: 1.0714 - categorical_accuracy: 0.6252 - val_loss: 0.9699 - val_categorical_accuracy: 0.6555\n",
      "Epoch 9/100\n",
      "50000/50000 [==============================] - 17s 345us/step - loss: 1.0352 - categorical_accuracy: 0.6368 - val_loss: 0.9420 - val_categorical_accuracy: 0.6688\n",
      "Epoch 10/100\n",
      "50000/50000 [==============================] - 17s 345us/step - loss: 1.0073 - categorical_accuracy: 0.6460 - val_loss: 0.9366 - val_categorical_accuracy: 0.6752\n",
      "Epoch 11/100\n",
      "50000/50000 [==============================] - 17s 344us/step - loss: 0.9828 - categorical_accuracy: 0.6564 - val_loss: 0.9011 - val_categorical_accuracy: 0.6830\n",
      "Epoch 12/100\n",
      "50000/50000 [==============================] - 17s 343us/step - loss: 0.9538 - categorical_accuracy: 0.6665 - val_loss: 0.8756 - val_categorical_accuracy: 0.6944\n",
      "Epoch 13/100\n",
      "50000/50000 [==============================] - 17s 342us/step - loss: 0.9361 - categorical_accuracy: 0.6739 - val_loss: 0.9634 - val_categorical_accuracy: 0.6629\n",
      "Epoch 14/100\n",
      "50000/50000 [==============================] - 17s 341us/step - loss: 0.9154 - categorical_accuracy: 0.6827 - val_loss: 0.8636 - val_categorical_accuracy: 0.6980\n",
      "Epoch 15/100\n",
      "50000/50000 [==============================] - 17s 341us/step - loss: 0.8941 - categorical_accuracy: 0.6895 - val_loss: 0.8867 - val_categorical_accuracy: 0.6946\n",
      "Epoch 16/100\n",
      "50000/50000 [==============================] - 17s 342us/step - loss: 0.8816 - categorical_accuracy: 0.6935 - val_loss: 0.8426 - val_categorical_accuracy: 0.7070\n",
      "Epoch 17/100\n",
      "50000/50000 [==============================] - 17s 341us/step - loss: 0.8661 - categorical_accuracy: 0.7004 - val_loss: 0.8308 - val_categorical_accuracy: 0.7129\n",
      "Epoch 18/100\n",
      "50000/50000 [==============================] - 17s 340us/step - loss: 0.8513 - categorical_accuracy: 0.7042 - val_loss: 0.8108 - val_categorical_accuracy: 0.7220\n",
      "Epoch 19/100\n",
      "50000/50000 [==============================] - 17s 342us/step - loss: 0.8343 - categorical_accuracy: 0.7099 - val_loss: 0.7752 - val_categorical_accuracy: 0.7315\n",
      "Epoch 20/100\n",
      "50000/50000 [==============================] - 17s 341us/step - loss: 0.8211 - categorical_accuracy: 0.7162 - val_loss: 0.8781 - val_categorical_accuracy: 0.6974\n",
      "Epoch 21/100\n",
      "50000/50000 [==============================] - 17s 341us/step - loss: 0.8111 - categorical_accuracy: 0.7178 - val_loss: 0.8200 - val_categorical_accuracy: 0.7111\n",
      "Epoch 22/100\n",
      "50000/50000 [==============================] - 17s 342us/step - loss: 0.8015 - categorical_accuracy: 0.7256 - val_loss: 0.7487 - val_categorical_accuracy: 0.7409\n",
      "Epoch 23/100\n",
      "50000/50000 [==============================] - 17s 341us/step - loss: 0.7889 - categorical_accuracy: 0.7278 - val_loss: 0.7862 - val_categorical_accuracy: 0.7285\n",
      "Epoch 24/100\n",
      "50000/50000 [==============================] - 17s 340us/step - loss: 0.7833 - categorical_accuracy: 0.7293 - val_loss: 0.7400 - val_categorical_accuracy: 0.7403\n",
      "Epoch 25/100\n",
      "50000/50000 [==============================] - 17s 341us/step - loss: 0.7721 - categorical_accuracy: 0.7345 - val_loss: 0.7990 - val_categorical_accuracy: 0.7264\n",
      "Epoch 26/100\n",
      "50000/50000 [==============================] - 17s 340us/step - loss: 0.7623 - categorical_accuracy: 0.7366 - val_loss: 0.7311 - val_categorical_accuracy: 0.7457\n",
      "Epoch 27/100\n",
      "50000/50000 [==============================] - 17s 339us/step - loss: 0.7513 - categorical_accuracy: 0.7416 - val_loss: 0.7565 - val_categorical_accuracy: 0.7438\n",
      "Epoch 28/100\n",
      "50000/50000 [==============================] - 17s 341us/step - loss: 0.7505 - categorical_accuracy: 0.7417 - val_loss: 0.7325 - val_categorical_accuracy: 0.7466\n",
      "Epoch 29/100\n",
      "50000/50000 [==============================] - 17s 340us/step - loss: 0.7394 - categorical_accuracy: 0.7449 - val_loss: 0.7639 - val_categorical_accuracy: 0.7383\n",
      "Epoch 30/100\n",
      "50000/50000 [==============================] - 17s 339us/step - loss: 0.7351 - categorical_accuracy: 0.7489 - val_loss: 0.7319 - val_categorical_accuracy: 0.7461\n",
      "Epoch 31/100\n",
      "50000/50000 [==============================] - 17s 339us/step - loss: 0.7292 - categorical_accuracy: 0.7509 - val_loss: 0.7443 - val_categorical_accuracy: 0.7457\n",
      "Epoch 32/100\n",
      "50000/50000 [==============================] - 17s 341us/step - loss: 0.7232 - categorical_accuracy: 0.7517 - val_loss: 0.7196 - val_categorical_accuracy: 0.7510\n",
      "Epoch 33/100\n",
      "50000/50000 [==============================] - 17s 339us/step - loss: 0.7181 - categorical_accuracy: 0.7535 - val_loss: 0.7052 - val_categorical_accuracy: 0.7560\n",
      "Epoch 34/100\n",
      "50000/50000 [==============================] - 17s 336us/step - loss: 0.7088 - categorical_accuracy: 0.7557 - val_loss: 0.7251 - val_categorical_accuracy: 0.7494\n",
      "Epoch 35/100\n",
      "50000/50000 [==============================] - 17s 338us/step - loss: 0.7012 - categorical_accuracy: 0.7594 - val_loss: 0.7303 - val_categorical_accuracy: 0.7476\n",
      "Epoch 36/100\n",
      "50000/50000 [==============================] - 17s 338us/step - loss: 0.6979 - categorical_accuracy: 0.7605 - val_loss: 0.7156 - val_categorical_accuracy: 0.7543\n",
      "Epoch 37/100\n",
      "50000/50000 [==============================] - 17s 336us/step - loss: 0.6929 - categorical_accuracy: 0.7638 - val_loss: 0.7042 - val_categorical_accuracy: 0.7586\n",
      "Epoch 38/100\n",
      "50000/50000 [==============================] - 17s 337us/step - loss: 0.6927 - categorical_accuracy: 0.7624 - val_loss: 0.7566 - val_categorical_accuracy: 0.7412\n",
      "Epoch 39/100\n",
      "50000/50000 [==============================] - 17s 337us/step - loss: 0.6922 - categorical_accuracy: 0.7637 - val_loss: 0.7052 - val_categorical_accuracy: 0.7553\n",
      "Epoch 40/100\n",
      "50000/50000 [==============================] - 17s 338us/step - loss: 0.6817 - categorical_accuracy: 0.7652 - val_loss: 0.7178 - val_categorical_accuracy: 0.7572\n",
      "Epoch 41/100\n",
      "50000/50000 [==============================] - 17s 337us/step - loss: 0.6765 - categorical_accuracy: 0.7689 - val_loss: 0.7490 - val_categorical_accuracy: 0.7439\n",
      "Epoch 42/100\n",
      "50000/50000 [==============================] - 17s 334us/step - loss: 0.6761 - categorical_accuracy: 0.7704 - val_loss: 0.7057 - val_categorical_accuracy: 0.7597\n",
      "Epoch 43/100\n",
      "50000/50000 [==============================] - 17s 339us/step - loss: 0.6707 - categorical_accuracy: 0.7726 - val_loss: 0.6824 - val_categorical_accuracy: 0.7676\n",
      "Epoch 44/100\n",
      "50000/50000 [==============================] - 17s 339us/step - loss: 0.6714 - categorical_accuracy: 0.7705 - val_loss: 0.7028 - val_categorical_accuracy: 0.7587\n",
      "Epoch 45/100\n",
      "50000/50000 [==============================] - 17s 338us/step - loss: 0.6623 - categorical_accuracy: 0.7747 - val_loss: 0.6848 - val_categorical_accuracy: 0.7661\n",
      "Epoch 46/100\n",
      "50000/50000 [==============================] - 17s 338us/step - loss: 0.6624 - categorical_accuracy: 0.7741 - val_loss: 0.7319 - val_categorical_accuracy: 0.7522\n",
      "Epoch 47/100\n"
     ]
    },
    {
     "name": "stdout",
     "output_type": "stream",
     "text": [
      "50000/50000 [==============================] - 17s 346us/step - loss: 0.6593 - categorical_accuracy: 0.7754 - val_loss: 0.6894 - val_categorical_accuracy: 0.7652\n",
      "Epoch 48/100\n",
      "50000/50000 [==============================] - 17s 346us/step - loss: 0.6523 - categorical_accuracy: 0.7787 - val_loss: 0.7307 - val_categorical_accuracy: 0.7532\n",
      "Epoch 49/100\n",
      "50000/50000 [==============================] - 17s 348us/step - loss: 0.6472 - categorical_accuracy: 0.7807 - val_loss: 0.6695 - val_categorical_accuracy: 0.7725\n",
      "Epoch 50/100\n",
      "50000/50000 [==============================] - 17s 338us/step - loss: 0.6486 - categorical_accuracy: 0.7797 - val_loss: 0.7303 - val_categorical_accuracy: 0.7522\n",
      "Epoch 51/100\n",
      "50000/50000 [==============================] - 17s 350us/step - loss: 0.6467 - categorical_accuracy: 0.7819 - val_loss: 0.6770 - val_categorical_accuracy: 0.7678\n",
      "Epoch 52/100\n",
      "50000/50000 [==============================] - 17s 347us/step - loss: 0.6426 - categorical_accuracy: 0.7808 - val_loss: 0.6603 - val_categorical_accuracy: 0.7750\n",
      "Epoch 53/100\n",
      "50000/50000 [==============================] - 17s 347us/step - loss: 0.6422 - categorical_accuracy: 0.7830 - val_loss: 0.7281 - val_categorical_accuracy: 0.7598\n",
      "Epoch 54/100\n",
      "50000/50000 [==============================] - 17s 350us/step - loss: 0.6358 - categorical_accuracy: 0.7846 - val_loss: 0.7282 - val_categorical_accuracy: 0.7569\n",
      "Epoch 55/100\n",
      "50000/50000 [==============================] - 17s 349us/step - loss: 0.6366 - categorical_accuracy: 0.7831 - val_loss: 0.6646 - val_categorical_accuracy: 0.7769\n",
      "Epoch 56/100\n",
      "50000/50000 [==============================] - 17s 349us/step - loss: 0.6335 - categorical_accuracy: 0.7852 - val_loss: 0.6726 - val_categorical_accuracy: 0.7744\n",
      "Epoch 57/100\n",
      "50000/50000 [==============================] - 17s 349us/step - loss: 0.6393 - categorical_accuracy: 0.7830 - val_loss: 0.6806 - val_categorical_accuracy: 0.7646\n",
      "Epoch 58/100\n",
      "50000/50000 [==============================] - 18s 350us/step - loss: 0.6280 - categorical_accuracy: 0.7873 - val_loss: 0.7032 - val_categorical_accuracy: 0.7644\n",
      "Epoch 59/100\n",
      "50000/50000 [==============================] - 17s 349us/step - loss: 0.6270 - categorical_accuracy: 0.7864 - val_loss: 0.6894 - val_categorical_accuracy: 0.7691\n",
      "Epoch 60/100\n",
      "50000/50000 [==============================] - 17s 350us/step - loss: 0.6295 - categorical_accuracy: 0.7884 - val_loss: 0.6486 - val_categorical_accuracy: 0.7809\n",
      "Epoch 61/100\n",
      "50000/50000 [==============================] - 17s 350us/step - loss: 0.6210 - categorical_accuracy: 0.7927 - val_loss: 0.6631 - val_categorical_accuracy: 0.7761\n",
      "Epoch 62/100\n",
      "50000/50000 [==============================] - 17s 350us/step - loss: 0.6258 - categorical_accuracy: 0.7900 - val_loss: 0.6841 - val_categorical_accuracy: 0.7698\n",
      "Epoch 63/100\n",
      "50000/50000 [==============================] - 17s 349us/step - loss: 0.6244 - categorical_accuracy: 0.7877 - val_loss: 0.6861 - val_categorical_accuracy: 0.7662\n",
      "Epoch 64/100\n",
      "50000/50000 [==============================] - 17s 348us/step - loss: 0.6160 - categorical_accuracy: 0.7898 - val_loss: 0.6737 - val_categorical_accuracy: 0.7704\n",
      "Epoch 65/100\n",
      "50000/50000 [==============================] - 17s 348us/step - loss: 0.6195 - categorical_accuracy: 0.7905 - val_loss: 0.6518 - val_categorical_accuracy: 0.7775\n",
      "Epoch 66/100\n",
      "50000/50000 [==============================] - 17s 349us/step - loss: 0.6188 - categorical_accuracy: 0.7917 - val_loss: 0.7295 - val_categorical_accuracy: 0.7565\n",
      "Epoch 67/100\n",
      "50000/50000 [==============================] - 17s 350us/step - loss: 0.6140 - categorical_accuracy: 0.7934 - val_loss: 0.6690 - val_categorical_accuracy: 0.7765\n",
      "Epoch 68/100\n",
      "50000/50000 [==============================] - 17s 349us/step - loss: 0.6153 - categorical_accuracy: 0.7916 - val_loss: 0.6581 - val_categorical_accuracy: 0.7789\n",
      "Epoch 69/100\n",
      "50000/50000 [==============================] - 17s 349us/step - loss: 0.6112 - categorical_accuracy: 0.7956 - val_loss: 0.6487 - val_categorical_accuracy: 0.7786\n",
      "Epoch 70/100\n",
      "50000/50000 [==============================] - 17s 348us/step - loss: 0.6140 - categorical_accuracy: 0.7941 - val_loss: 0.6762 - val_categorical_accuracy: 0.7755\n",
      "Epoch 71/100\n",
      "50000/50000 [==============================] - 17s 348us/step - loss: 0.6097 - categorical_accuracy: 0.7939 - val_loss: 0.7106 - val_categorical_accuracy: 0.7612\n",
      "Epoch 72/100\n",
      "50000/50000 [==============================] - 17s 347us/step - loss: 0.6083 - categorical_accuracy: 0.7948 - val_loss: 0.6540 - val_categorical_accuracy: 0.7797\n",
      "Epoch 73/100\n",
      "50000/50000 [==============================] - 17s 341us/step - loss: 0.6101 - categorical_accuracy: 0.7943 - val_loss: 0.6646 - val_categorical_accuracy: 0.7741\n",
      "Epoch 74/100\n",
      "50000/50000 [==============================] - 17s 344us/step - loss: 0.6001 - categorical_accuracy: 0.7975 - val_loss: 0.6849 - val_categorical_accuracy: 0.7698\n",
      "Epoch 75/100\n",
      "50000/50000 [==============================] - 17s 343us/step - loss: 0.6056 - categorical_accuracy: 0.7967 - val_loss: 0.6463 - val_categorical_accuracy: 0.7811\n",
      "Epoch 76/100\n",
      "50000/50000 [==============================] - 17s 343us/step - loss: 0.6030 - categorical_accuracy: 0.7969 - val_loss: 0.7060 - val_categorical_accuracy: 0.7666\n",
      "Epoch 77/100\n",
      "50000/50000 [==============================] - 17s 343us/step - loss: 0.6005 - categorical_accuracy: 0.7983 - val_loss: 0.6477 - val_categorical_accuracy: 0.7839\n",
      "Epoch 78/100\n",
      "50000/50000 [==============================] - 17s 347us/step - loss: 0.5934 - categorical_accuracy: 0.7999 - val_loss: 0.6881 - val_categorical_accuracy: 0.7624\n",
      "Epoch 79/100\n",
      "50000/50000 [==============================] - 17s 341us/step - loss: 0.5937 - categorical_accuracy: 0.7991 - val_loss: 0.6524 - val_categorical_accuracy: 0.7840\n",
      "Epoch 80/100\n",
      "50000/50000 [==============================] - 17s 343us/step - loss: 0.5968 - categorical_accuracy: 0.7979 - val_loss: 0.6603 - val_categorical_accuracy: 0.7823\n",
      "Epoch 81/100\n",
      "50000/50000 [==============================] - 17s 347us/step - loss: 0.5972 - categorical_accuracy: 0.7999 - val_loss: 0.6437 - val_categorical_accuracy: 0.7807\n",
      "Epoch 82/100\n",
      "50000/50000 [==============================] - 17s 342us/step - loss: 0.5933 - categorical_accuracy: 0.7994 - val_loss: 0.6804 - val_categorical_accuracy: 0.7705\n",
      "Epoch 83/100\n",
      "50000/50000 [==============================] - 17s 342us/step - loss: 0.5925 - categorical_accuracy: 0.8015 - val_loss: 0.6545 - val_categorical_accuracy: 0.7821\n",
      "Epoch 84/100\n",
      "50000/50000 [==============================] - 17s 345us/step - loss: 0.5926 - categorical_accuracy: 0.8000 - val_loss: 0.6761 - val_categorical_accuracy: 0.7723\n",
      "Epoch 85/100\n",
      "50000/50000 [==============================] - 17s 345us/step - loss: 0.5909 - categorical_accuracy: 0.8029 - val_loss: 0.6590 - val_categorical_accuracy: 0.7791\n",
      "Epoch 86/100\n",
      "50000/50000 [==============================] - 17s 343us/step - loss: 0.5883 - categorical_accuracy: 0.8011 - val_loss: 0.6654 - val_categorical_accuracy: 0.7751\n",
      "Epoch 87/100\n",
      "50000/50000 [==============================] - 17s 343us/step - loss: 0.5932 - categorical_accuracy: 0.8023 - val_loss: 0.6555 - val_categorical_accuracy: 0.7797\n",
      "Epoch 88/100\n",
      "50000/50000 [==============================] - 17s 344us/step - loss: 0.5909 - categorical_accuracy: 0.8023 - val_loss: 0.6806 - val_categorical_accuracy: 0.7740\n",
      "Epoch 89/100\n",
      "50000/50000 [==============================] - 17s 343us/step - loss: 0.5887 - categorical_accuracy: 0.8026 - val_loss: 0.6535 - val_categorical_accuracy: 0.7851\n",
      "Epoch 90/100\n",
      "50000/50000 [==============================] - 17s 343us/step - loss: 0.5854 - categorical_accuracy: 0.8050 - val_loss: 0.6458 - val_categorical_accuracy: 0.7835\n",
      "Epoch 91/100\n",
      "50000/50000 [==============================] - 17s 342us/step - loss: 0.5840 - categorical_accuracy: 0.8018 - val_loss: 0.6321 - val_categorical_accuracy: 0.7920\n",
      "Epoch 92/100\n",
      "50000/50000 [==============================] - 17s 343us/step - loss: 0.5809 - categorical_accuracy: 0.8053 - val_loss: 0.6715 - val_categorical_accuracy: 0.7742\n",
      "Epoch 93/100\n",
      "50000/50000 [==============================] - 17s 342us/step - loss: 0.5832 - categorical_accuracy: 0.8041 - val_loss: 0.6654 - val_categorical_accuracy: 0.7736\n"
     ]
    },
    {
     "name": "stdout",
     "output_type": "stream",
     "text": [
      "Epoch 94/100\n",
      "50000/50000 [==============================] - 17s 344us/step - loss: 0.5877 - categorical_accuracy: 0.8038 - val_loss: 0.6458 - val_categorical_accuracy: 0.7873\n",
      "Epoch 95/100\n",
      "50000/50000 [==============================] - 17s 346us/step - loss: 0.5854 - categorical_accuracy: 0.8035 - val_loss: 0.6446 - val_categorical_accuracy: 0.7884\n",
      "Epoch 96/100\n",
      "50000/50000 [==============================] - 17s 345us/step - loss: 0.5845 - categorical_accuracy: 0.8041 - val_loss: 0.6858 - val_categorical_accuracy: 0.7665\n",
      "Epoch 97/100\n",
      "50000/50000 [==============================] - 17s 346us/step - loss: 0.5771 - categorical_accuracy: 0.8067 - val_loss: 0.6540 - val_categorical_accuracy: 0.7820\n",
      "Epoch 98/100\n",
      "50000/50000 [==============================] - 17s 347us/step - loss: 0.5814 - categorical_accuracy: 0.8071 - val_loss: 0.7564 - val_categorical_accuracy: 0.7542\n",
      "Epoch 99/100\n",
      "50000/50000 [==============================] - 17s 343us/step - loss: 0.5799 - categorical_accuracy: 0.8054 - val_loss: 0.6775 - val_categorical_accuracy: 0.7742\n",
      "Epoch 100/100\n",
      "50000/50000 [==============================] - 17s 344us/step - loss: 0.5742 - categorical_accuracy: 0.8081 - val_loss: 0.6585 - val_categorical_accuracy: 0.7836\n"
     ]
    }
   ],
   "source": [
    "# Train the model\n",
    "start = datetime.now()\n",
    "model_info = model.fit(train_features, train_labels, \n",
    "                       batch_size=32, epochs=100, \n",
    "                       validation_data = (test_features, test_labels), \n",
    "                       verbose=1)\n",
    "end = datetime.now()"
   ]
  },
  {
   "cell_type": "code",
   "execution_count": 11,
   "metadata": {},
   "outputs": [
    {
     "name": "stdout",
     "output_type": "stream",
     "text": [
      "Model took %0.2f seconds to train 0:28:40.034875\n"
     ]
    }
   ],
   "source": [
    "print(\"Model took %0.2f seconds to train\", (end - start))"
   ]
  },
  {
   "cell_type": "code",
   "execution_count": 12,
   "metadata": {},
   "outputs": [
    {
     "name": "stdout",
     "output_type": "stream",
     "text": [
      "Accuracy on test data is: 78.36\n"
     ]
    }
   ],
   "source": [
    "# compute test accuracy\n",
    "print(\"Accuracy on test data is: %0.2f\"%accuracy(test_features, test_labels, model))"
   ]
  },
  {
   "cell_type": "code",
   "execution_count": null,
   "metadata": {},
   "outputs": [],
   "source": []
  },
  {
   "cell_type": "code",
   "execution_count": 13,
   "metadata": {},
   "outputs": [
    {
     "data": {
      "image/png": "[encoded data removed]",
      "text/plain": [
       "<Figure size 1080x360 with 2 Axes>"
      ]
     },
     "metadata": {},
     "output_type": "display_data"
    }
   ],
   "source": [
    "# plot model history\n",
    "plot_model_history(model_info)"
   ]
  },
  {
   "cell_type": "code",
   "execution_count": null,
   "metadata": {},
   "outputs": [],
   "source": []
  },
  {
   "cell_type": "code",
   "execution_count": null,
   "metadata": {},
   "outputs": [],
   "source": []
  }
 ],
 "metadata": {
  "kernelspec": {
   "display_name": "Python 3",
   "language": "python",
   "name": "python3"
  },
  "language_info": {
   "codemirror_mode": {
    "name": "ipython",
    "version": 3
   },
   "file_extension": ".py",
   "mimetype": "text/x-python",
   "name": "python",
   "nbconvert_exporter": "python",
   "pygments_lexer": "ipython3",
   "version": "3.6.5"
  }
 },
 "nbformat": 4,
 "nbformat_minor": 2
}
