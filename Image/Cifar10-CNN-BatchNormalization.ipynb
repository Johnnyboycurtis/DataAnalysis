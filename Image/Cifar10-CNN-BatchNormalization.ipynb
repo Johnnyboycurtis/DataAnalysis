{
 "cells": [
  {
   "cell_type": "code",
   "execution_count": null,
   "metadata": {},
   "outputs": [],
   "source": []
  },
  {
   "cell_type": "code",
   "execution_count": 1,
   "metadata": {},
   "outputs": [
    {
     "name": "stderr",
     "output_type": "stream",
     "text": [
      "/home/jn107154/miniconda3/envs/tfgpu/lib/python3.6/site-packages/h5py/__init__.py:36: FutureWarning: Conversion of the second argument of issubdtype from `float` to `np.floating` is deprecated. In future, it will be treated as `np.float64 == np.dtype(float).type`.\n",
      "  from ._conv import register_converters as _register_converters\n",
      "Using TensorFlow backend.\n"
     ]
    }
   ],
   "source": [
    "from keras import backend as K\n",
    "if K.backend()=='tensorflow':\n",
    "    K.set_image_dim_ordering(\"th\")"
   ]
  },
  {
   "cell_type": "code",
   "execution_count": 2,
   "metadata": {},
   "outputs": [],
   "source": [
    "from datetime import datetime\n",
    "import matplotlib.pyplot as plt\n",
    "import numpy as np\n",
    "import keras\n",
    "from keras.models import Sequential\n",
    "from keras.layers.convolutional import Convolution2D, MaxPooling2D\n",
    "from keras.layers import Activation, Flatten, Dense, Dropout\n",
    "from keras.layers.normalization import BatchNormalization\n",
    "from keras.utils import np_utils"
   ]
  },
  {
   "cell_type": "code",
   "execution_count": 3,
   "metadata": {},
   "outputs": [],
   "source": [
    "def plot_model_history(model_history):\n",
    "    fig, axs = plt.subplots(1,2,figsize=(15,5))\n",
    "    # summarize history for accuracy\n",
    "    axs[0].plot(range(1,len(model_history.history['categorical_accuracy'])+1),model_history.history['categorical_accuracy'])\n",
    "    axs[0].plot(range(1,len(model_history.history['val_categorical_accuracy'])+1),model_history.history['val_categorical_accuracy'])\n",
    "    axs[0].set_title('Model Accuracy')\n",
    "    axs[0].set_ylabel('Accuracy')\n",
    "    axs[0].set_xlabel('Epoch')\n",
    "    axs[0].set_xticks(np.arange(1,len(model_history.history['categorical_accuracy'])+1),len(model_history.history['categorical_accuracy'])/10)\n",
    "    axs[0].legend(['train', 'val'], loc='best')\n",
    "    # summarize history for loss\n",
    "    axs[1].plot(range(1,len(model_history.history['loss'])+1),model_history.history['loss'])\n",
    "    axs[1].plot(range(1,len(model_history.history['val_loss'])+1),model_history.history['val_loss'])\n",
    "    axs[1].set_title('Model Loss')\n",
    "    axs[1].set_ylabel('Loss')\n",
    "    axs[1].set_xlabel('Epoch')\n",
    "    axs[1].set_xticks(np.arange(1,len(model_history.history['loss'])+1),len(model_history.history['loss'])/10)\n",
    "    axs[1].legend(['train', 'val'], loc='best')\n",
    "    plt.show()\n",
    "\n",
    "def accuracy(test_x, test_y, model):\n",
    "    result = model.predict(test_x)\n",
    "    predicted_class = np.argmax(result, axis=1)\n",
    "    true_class = np.argmax(test_y, axis=1)\n",
    "    num_correct = np.sum(predicted_class == true_class) \n",
    "    accuracy = float(num_correct)/result.shape[0]\n",
    "    return (accuracy * 100)\n"
   ]
  },
  {
   "cell_type": "code",
   "execution_count": 4,
   "metadata": {},
   "outputs": [
    {
     "name": "stdout",
     "output_type": "stream",
     "text": [
      "dimensions (50000, 3, 32, 32)\n"
     ]
    }
   ],
   "source": [
    "np.random.seed(2017)\n",
    "\n",
    "#import cifar10\n",
    "from keras.datasets import cifar10\n",
    "(train_features, train_labels), (test_features, test_labels) = cifar10.load_data()\n",
    "num_train, img_channels, img_rows, img_cols =  train_features.shape\n",
    "num_test, _, _, _ =  test_features.shape\n",
    "num_classes = len(np.unique(train_labels))\n",
    "\n",
    "print(\"dimensions\", train_features.shape)"
   ]
  },
  {
   "cell_type": "code",
   "execution_count": null,
   "metadata": {},
   "outputs": [],
   "source": []
  },
  {
   "cell_type": "code",
   "execution_count": null,
   "metadata": {},
   "outputs": [],
   "source": []
  },
  {
   "cell_type": "code",
   "execution_count": 5,
   "metadata": {},
   "outputs": [],
   "source": [
    "# scale the features\n",
    "train_features = train_features.astype('float32')/255\n",
    "test_features = test_features.astype('float32')/255\n",
    "\n",
    "# convert class labels to binary class labels\n",
    "train_labels = np_utils.to_categorical(train_labels, num_classes)\n",
    "test_labels = np_utils.to_categorical(test_labels, num_classes)"
   ]
  },
  {
   "cell_type": "code",
   "execution_count": null,
   "metadata": {},
   "outputs": [],
   "source": []
  },
  {
   "cell_type": "code",
   "execution_count": 6,
   "metadata": {},
   "outputs": [],
   "source": [
    "# optimizer\n",
    "Adadelta = keras.optimizers.Adadelta()\n"
   ]
  },
  {
   "cell_type": "code",
   "execution_count": null,
   "metadata": {},
   "outputs": [],
   "source": []
  },
  {
   "cell_type": "code",
   "execution_count": 7,
   "metadata": {},
   "outputs": [
    {
     "name": "stdout",
     "output_type": "stream",
     "text": [
      "WARNING:tensorflow:From /home/jn107154/miniconda3/envs/tfgpu/lib/python3.6/site-packages/keras/backend/tensorflow_backend.py:1264: calling reduce_prod (from tensorflow.python.ops.math_ops) with keep_dims is deprecated and will be removed in a future version.\n",
      "Instructions for updating:\n",
      "keep_dims is deprecated, use keepdims instead\n"
     ]
    }
   ],
   "source": [
    "# Define the model\n",
    "model = Sequential()\n",
    "model.add(Convolution2D(64, (4, 4), padding='same', input_shape=(3, 32, 32)))\n",
    "model.add(BatchNormalization())\n",
    "model.add(MaxPooling2D(pool_size=(2, 2), strides=2))\n",
    "model.add(Activation('relu'))\n",
    "model.add(Dropout(0.25))\n",
    "model.add(Convolution2D(64, (2, 2), padding='same'))\n",
    "model.add(BatchNormalization())\n",
    "model.add(Activation('relu'))\n",
    "model.add(Dropout(0.25))\n",
    "model.add(Convolution2D(32, (3, 3), padding='same'))\n",
    "model.add(BatchNormalization())\n",
    "model.add(Activation('relu'))\n",
    "model.add(Dropout(0.25))\n",
    "model.add(Convolution2D(32, (3, 3), padding='same'))\n",
    "model.add(BatchNormalization())\n",
    "model.add(Activation('relu'))\n",
    "model.add(MaxPooling2D(pool_size=(2, 2), strides=2))\n",
    "model.add(Dropout(0.15))\n",
    "model.add(Flatten())\n",
    "model.add(Dense(64))\n",
    "model.add(Activation('relu'))\n",
    "model.add(BatchNormalization()) # temp\n",
    "model.add(Dropout(0.25))\n",
    "model.add(Dense(64))\n",
    "model.add(Activation('tanh'))\n",
    "model.add(BatchNormalization()) # temp\n",
    "model.add(Dropout(0.25))\n",
    "model.add(Dense(num_classes, activation='softmax'))"
   ]
  },
  {
   "cell_type": "code",
   "execution_count": 8,
   "metadata": {},
   "outputs": [
    {
     "name": "stdout",
     "output_type": "stream",
     "text": [
      "_________________________________________________________________\n",
      "Layer (type)                 Output Shape              Param #   \n",
      "=================================================================\n",
      "conv2d_1 (Conv2D)            (None, 64, 32, 32)        3136      \n",
      "_________________________________________________________________\n",
      "batch_normalization_1 (Batch (None, 64, 32, 32)        128       \n",
      "_________________________________________________________________\n",
      "max_pooling2d_1 (MaxPooling2 (None, 64, 16, 16)        0         \n",
      "_________________________________________________________________\n",
      "activation_1 (Activation)    (None, 64, 16, 16)        0         \n",
      "_________________________________________________________________\n",
      "dropout_1 (Dropout)          (None, 64, 16, 16)        0         \n",
      "_________________________________________________________________\n",
      "conv2d_2 (Conv2D)            (None, 64, 16, 16)        16448     \n",
      "_________________________________________________________________\n",
      "batch_normalization_2 (Batch (None, 64, 16, 16)        64        \n",
      "_________________________________________________________________\n",
      "activation_2 (Activation)    (None, 64, 16, 16)        0         \n",
      "_________________________________________________________________\n",
      "dropout_2 (Dropout)          (None, 64, 16, 16)        0         \n",
      "_________________________________________________________________\n",
      "conv2d_3 (Conv2D)            (None, 32, 16, 16)        18464     \n",
      "_________________________________________________________________\n",
      "batch_normalization_3 (Batch (None, 32, 16, 16)        64        \n",
      "_________________________________________________________________\n",
      "activation_3 (Activation)    (None, 32, 16, 16)        0         \n",
      "_________________________________________________________________\n",
      "dropout_3 (Dropout)          (None, 32, 16, 16)        0         \n",
      "_________________________________________________________________\n",
      "conv2d_4 (Conv2D)            (None, 32, 16, 16)        9248      \n",
      "_________________________________________________________________\n",
      "batch_normalization_4 (Batch (None, 32, 16, 16)        64        \n",
      "_________________________________________________________________\n",
      "activation_4 (Activation)    (None, 32, 16, 16)        0         \n",
      "_________________________________________________________________\n",
      "max_pooling2d_2 (MaxPooling2 (None, 32, 8, 8)          0         \n",
      "_________________________________________________________________\n",
      "dropout_4 (Dropout)          (None, 32, 8, 8)          0         \n",
      "_________________________________________________________________\n",
      "flatten_1 (Flatten)          (None, 2048)              0         \n",
      "_________________________________________________________________\n",
      "dense_1 (Dense)              (None, 64)                131136    \n",
      "_________________________________________________________________\n",
      "activation_5 (Activation)    (None, 64)                0         \n",
      "_________________________________________________________________\n",
      "batch_normalization_5 (Batch (None, 64)                256       \n",
      "_________________________________________________________________\n",
      "dropout_5 (Dropout)          (None, 64)                0         \n",
      "_________________________________________________________________\n",
      "dense_2 (Dense)              (None, 64)                4160      \n",
      "_________________________________________________________________\n",
      "activation_6 (Activation)    (None, 64)                0         \n",
      "_________________________________________________________________\n",
      "batch_normalization_6 (Batch (None, 64)                256       \n",
      "_________________________________________________________________\n",
      "dropout_6 (Dropout)          (None, 64)                0         \n",
      "_________________________________________________________________\n",
      "dense_3 (Dense)              (None, 10)                650       \n",
      "=================================================================\n",
      "Total params: 184,074\n",
      "Trainable params: 183,658\n",
      "Non-trainable params: 416\n",
      "_________________________________________________________________\n",
      "None\n"
     ]
    }
   ],
   "source": [
    "print(model.summary())"
   ]
  },
  {
   "cell_type": "code",
   "execution_count": 9,
   "metadata": {},
   "outputs": [
    {
     "name": "stdout",
     "output_type": "stream",
     "text": [
      "WARNING:tensorflow:From /home/jn107154/miniconda3/envs/tfgpu/lib/python3.6/site-packages/keras/backend/tensorflow_backend.py:2885: calling reduce_sum (from tensorflow.python.ops.math_ops) with keep_dims is deprecated and will be removed in a future version.\n",
      "Instructions for updating:\n",
      "keep_dims is deprecated, use keepdims instead\n",
      "WARNING:tensorflow:From /home/jn107154/miniconda3/envs/tfgpu/lib/python3.6/site-packages/keras/backend/tensorflow_backend.py:1349: calling reduce_mean (from tensorflow.python.ops.math_ops) with keep_dims is deprecated and will be removed in a future version.\n",
      "Instructions for updating:\n",
      "keep_dims is deprecated, use keepdims instead\n"
     ]
    }
   ],
   "source": [
    "from keras.metrics import categorical_accuracy\n",
    "model.compile(loss='categorical_crossentropy', optimizer=Adadelta, metrics=[categorical_accuracy])"
   ]
  },
  {
   "cell_type": "code",
   "execution_count": null,
   "metadata": {},
   "outputs": [],
   "source": []
  },
  {
   "cell_type": "code",
   "execution_count": 10,
   "metadata": {},
   "outputs": [
    {
     "name": "stdout",
     "output_type": "stream",
     "text": [
      "Train on 50000 samples, validate on 10000 samples\n",
      "Epoch 1/50\n",
      "50000/50000 [==============================] - 33s 664us/step - loss: 1.9895 - categorical_accuracy: 0.2957 - val_loss: 1.7721 - val_categorical_accuracy: 0.3454\n",
      "Epoch 2/50\n",
      "50000/50000 [==============================] - 31s 610us/step - loss: 1.5340 - categorical_accuracy: 0.4388 - val_loss: 1.4789 - val_categorical_accuracy: 0.4628\n",
      "Epoch 3/50\n",
      "50000/50000 [==============================] - 31s 617us/step - loss: 1.3663 - categorical_accuracy: 0.5056 - val_loss: 1.2163 - val_categorical_accuracy: 0.5594\n",
      "Epoch 4/50\n",
      "50000/50000 [==============================] - 31s 615us/step - loss: 1.2531 - categorical_accuracy: 0.5537 - val_loss: 1.2260 - val_categorical_accuracy: 0.5649\n",
      "Epoch 5/50\n",
      "50000/50000 [==============================] - 31s 619us/step - loss: 1.1579 - categorical_accuracy: 0.5902 - val_loss: 1.2184 - val_categorical_accuracy: 0.5580\n",
      "Epoch 6/50\n",
      "50000/50000 [==============================] - 31s 618us/step - loss: 1.1040 - categorical_accuracy: 0.6150 - val_loss: 1.1217 - val_categorical_accuracy: 0.6035\n",
      "Epoch 7/50\n",
      "50000/50000 [==============================] - 31s 615us/step - loss: 1.0571 - categorical_accuracy: 0.6307 - val_loss: 1.4180 - val_categorical_accuracy: 0.4887\n",
      "Epoch 8/50\n",
      "50000/50000 [==============================] - 31s 619us/step - loss: 1.0250 - categorical_accuracy: 0.6431 - val_loss: 0.9675 - val_categorical_accuracy: 0.6553\n",
      "Epoch 9/50\n",
      "50000/50000 [==============================] - 31s 619us/step - loss: 0.9892 - categorical_accuracy: 0.6567 - val_loss: 0.8917 - val_categorical_accuracy: 0.6869\n",
      "Epoch 10/50\n",
      "50000/50000 [==============================] - 31s 618us/step - loss: 0.9591 - categorical_accuracy: 0.6663 - val_loss: 1.0856 - val_categorical_accuracy: 0.6187\n",
      "Epoch 11/50\n",
      "50000/50000 [==============================] - 31s 618us/step - loss: 0.9412 - categorical_accuracy: 0.6735 - val_loss: 1.0193 - val_categorical_accuracy: 0.6391\n",
      "Epoch 12/50\n",
      "50000/50000 [==============================] - 31s 619us/step - loss: 0.9131 - categorical_accuracy: 0.6836 - val_loss: 0.8822 - val_categorical_accuracy: 0.6860\n",
      "Epoch 13/50\n",
      "50000/50000 [==============================] - 31s 621us/step - loss: 0.8970 - categorical_accuracy: 0.6882 - val_loss: 1.1586 - val_categorical_accuracy: 0.5931\n",
      "Epoch 14/50\n",
      "50000/50000 [==============================] - 31s 618us/step - loss: 0.8812 - categorical_accuracy: 0.6958 - val_loss: 0.8906 - val_categorical_accuracy: 0.6859\n",
      "Epoch 15/50\n",
      "50000/50000 [==============================] - 31s 614us/step - loss: 0.8695 - categorical_accuracy: 0.7001 - val_loss: 0.7683 - val_categorical_accuracy: 0.7362\n",
      "Epoch 16/50\n",
      "50000/50000 [==============================] - 31s 616us/step - loss: 0.8519 - categorical_accuracy: 0.7087 - val_loss: 0.9344 - val_categorical_accuracy: 0.6800\n",
      "Epoch 17/50\n",
      "50000/50000 [==============================] - 31s 619us/step - loss: 0.8422 - categorical_accuracy: 0.7116 - val_loss: 1.3841 - val_categorical_accuracy: 0.5481\n",
      "Epoch 18/50\n",
      "50000/50000 [==============================] - 31s 611us/step - loss: 0.8278 - categorical_accuracy: 0.7163 - val_loss: 0.8289 - val_categorical_accuracy: 0.7141\n",
      "Epoch 19/50\n",
      "50000/50000 [==============================] - 31s 612us/step - loss: 0.8150 - categorical_accuracy: 0.7181 - val_loss: 1.2272 - val_categorical_accuracy: 0.6280\n",
      "Epoch 20/50\n",
      "50000/50000 [==============================] - 31s 612us/step - loss: 0.8027 - categorical_accuracy: 0.7263 - val_loss: 0.7638 - val_categorical_accuracy: 0.7351\n",
      "Epoch 21/50\n",
      "50000/50000 [==============================] - 31s 613us/step - loss: 0.7932 - categorical_accuracy: 0.7268 - val_loss: 0.7590 - val_categorical_accuracy: 0.7326\n",
      "Epoch 22/50\n",
      "50000/50000 [==============================] - 31s 611us/step - loss: 0.7834 - categorical_accuracy: 0.7325 - val_loss: 0.7799 - val_categorical_accuracy: 0.7305\n",
      "Epoch 23/50\n",
      "50000/50000 [==============================] - 30s 610us/step - loss: 0.7709 - categorical_accuracy: 0.7341 - val_loss: 0.7439 - val_categorical_accuracy: 0.7449\n",
      "Epoch 24/50\n",
      "50000/50000 [==============================] - 31s 611us/step - loss: 0.7711 - categorical_accuracy: 0.7345 - val_loss: 0.6830 - val_categorical_accuracy: 0.7637\n",
      "Epoch 25/50\n",
      "50000/50000 [==============================] - 31s 613us/step - loss: 0.7596 - categorical_accuracy: 0.7409 - val_loss: 0.8630 - val_categorical_accuracy: 0.7097\n",
      "Epoch 26/50\n",
      "50000/50000 [==============================] - 31s 613us/step - loss: 0.7585 - categorical_accuracy: 0.7405 - val_loss: 0.6847 - val_categorical_accuracy: 0.7649\n",
      "Epoch 27/50\n",
      "50000/50000 [==============================] - 30s 609us/step - loss: 0.7443 - categorical_accuracy: 0.7470 - val_loss: 0.7570 - val_categorical_accuracy: 0.7422\n",
      "Epoch 28/50\n",
      "50000/50000 [==============================] - 30s 609us/step - loss: 0.7422 - categorical_accuracy: 0.7469 - val_loss: 0.6823 - val_categorical_accuracy: 0.7659\n",
      "Epoch 29/50\n",
      "50000/50000 [==============================] - 30s 609us/step - loss: 0.7313 - categorical_accuracy: 0.7495 - val_loss: 0.6845 - val_categorical_accuracy: 0.7633\n",
      "Epoch 30/50\n",
      "50000/50000 [==============================] - 31s 618us/step - loss: 0.7276 - categorical_accuracy: 0.7518 - val_loss: 0.7446 - val_categorical_accuracy: 0.7473\n",
      "Epoch 31/50\n",
      "50000/50000 [==============================] - 31s 618us/step - loss: 0.7198 - categorical_accuracy: 0.7542 - val_loss: 0.7292 - val_categorical_accuracy: 0.7476\n",
      "Epoch 32/50\n",
      "50000/50000 [==============================] - 31s 615us/step - loss: 0.7147 - categorical_accuracy: 0.7559 - val_loss: 0.8223 - val_categorical_accuracy: 0.7288\n",
      "Epoch 33/50\n",
      "50000/50000 [==============================] - 31s 615us/step - loss: 0.7089 - categorical_accuracy: 0.7585 - val_loss: 0.7759 - val_categorical_accuracy: 0.7364\n",
      "Epoch 34/50\n",
      "50000/50000 [==============================] - 31s 619us/step - loss: 0.7055 - categorical_accuracy: 0.7595 - val_loss: 0.7391 - val_categorical_accuracy: 0.7460\n",
      "Epoch 35/50\n",
      "50000/50000 [==============================] - 31s 622us/step - loss: 0.7008 - categorical_accuracy: 0.7617 - val_loss: 0.7999 - val_categorical_accuracy: 0.7252\n",
      "Epoch 36/50\n",
      "50000/50000 [==============================] - 31s 611us/step - loss: 0.6937 - categorical_accuracy: 0.7637 - val_loss: 0.8034 - val_categorical_accuracy: 0.7303\n",
      "Epoch 37/50\n",
      "50000/50000 [==============================] - 31s 612us/step - loss: 0.6904 - categorical_accuracy: 0.7641 - val_loss: 0.6150 - val_categorical_accuracy: 0.7905\n",
      "Epoch 38/50\n",
      "50000/50000 [==============================] - 31s 620us/step - loss: 0.6812 - categorical_accuracy: 0.7679 - val_loss: 0.9305 - val_categorical_accuracy: 0.6872\n",
      "Epoch 39/50\n",
      "50000/50000 [==============================] - 31s 621us/step - loss: 0.6793 - categorical_accuracy: 0.7688 - val_loss: 0.7942 - val_categorical_accuracy: 0.7335\n",
      "Epoch 40/50\n",
      "50000/50000 [==============================] - 31s 614us/step - loss: 0.6819 - categorical_accuracy: 0.7668 - val_loss: 0.6500 - val_categorical_accuracy: 0.7806\n",
      "Epoch 41/50\n",
      "50000/50000 [==============================] - 31s 626us/step - loss: 0.6752 - categorical_accuracy: 0.7709 - val_loss: 0.6614 - val_categorical_accuracy: 0.7769\n",
      "Epoch 42/50\n",
      "50000/50000 [==============================] - 31s 615us/step - loss: 0.6683 - categorical_accuracy: 0.7737 - val_loss: 0.6268 - val_categorical_accuracy: 0.7889\n",
      "Epoch 43/50\n",
      "50000/50000 [==============================] - 31s 617us/step - loss: 0.6740 - categorical_accuracy: 0.7717 - val_loss: 0.6398 - val_categorical_accuracy: 0.7843\n",
      "Epoch 44/50\n",
      "50000/50000 [==============================] - 31s 620us/step - loss: 0.6638 - categorical_accuracy: 0.7740 - val_loss: 0.6197 - val_categorical_accuracy: 0.7884\n",
      "Epoch 45/50\n",
      "50000/50000 [==============================] - 31s 618us/step - loss: 0.6660 - categorical_accuracy: 0.7749 - val_loss: 0.6678 - val_categorical_accuracy: 0.7723\n",
      "Epoch 46/50\n",
      "50000/50000 [==============================] - 31s 619us/step - loss: 0.6592 - categorical_accuracy: 0.7752 - val_loss: 0.7563 - val_categorical_accuracy: 0.7429\n",
      "Epoch 47/50\n",
      "50000/50000 [==============================] - 31s 618us/step - loss: 0.6538 - categorical_accuracy: 0.7769 - val_loss: 0.7242 - val_categorical_accuracy: 0.7579\n"
     ]
    },
    {
     "name": "stdout",
     "output_type": "stream",
     "text": [
      "Epoch 48/50\n",
      "50000/50000 [==============================] - 31s 617us/step - loss: 0.6529 - categorical_accuracy: 0.7779 - val_loss: 0.6737 - val_categorical_accuracy: 0.7751\n",
      "Epoch 49/50\n",
      "50000/50000 [==============================] - 31s 614us/step - loss: 0.6541 - categorical_accuracy: 0.7775 - val_loss: 0.7322 - val_categorical_accuracy: 0.7556\n",
      "Epoch 50/50\n",
      "50000/50000 [==============================] - 31s 614us/step - loss: 0.6520 - categorical_accuracy: 0.7788 - val_loss: 0.6560 - val_categorical_accuracy: 0.7752\n"
     ]
    }
   ],
   "source": [
    "# Train the model\n",
    "start = datetime.now()\n",
    "model_info = model.fit(train_features, train_labels, \n",
    "                       batch_size=32, epochs=50, \n",
    "                       validation_data = (test_features, test_labels), \n",
    "                       verbose=1)\n",
    "end = datetime.now()"
   ]
  },
  {
   "cell_type": "code",
   "execution_count": 11,
   "metadata": {},
   "outputs": [
    {
     "name": "stdout",
     "output_type": "stream",
     "text": [
      "Model took %0.2f seconds to train 0:25:43.553009\n"
     ]
    }
   ],
   "source": [
    "print(\"Model took %0.2f seconds to train\", (end - start))"
   ]
  },
  {
   "cell_type": "code",
   "execution_count": 12,
   "metadata": {},
   "outputs": [
    {
     "name": "stdout",
     "output_type": "stream",
     "text": [
      "Accuracy on test data is: 77.52\n"
     ]
    }
   ],
   "source": [
    "# compute test accuracy\n",
    "print(\"Accuracy on test data is: %0.2f\"%accuracy(test_features, test_labels, model))"
   ]
  },
  {
   "cell_type": "code",
   "execution_count": null,
   "metadata": {},
   "outputs": [],
   "source": []
  },
  {
   "cell_type": "code",
   "execution_count": 13,
   "metadata": {},
   "outputs": [
    {
     "data": {
      "image/png": "[encoded data removed]",
      "text/plain": [
       "<Figure size 1080x360 with 2 Axes>"
      ]
     },
     "metadata": {},
     "output_type": "display_data"
    }
   ],
   "source": [
    "# plot model history\n",
    "plot_model_history(model_info)"
   ]
  },
  {
   "cell_type": "code",
   "execution_count": null,
   "metadata": {},
   "outputs": [],
   "source": []
  },
  {
   "cell_type": "code",
   "execution_count": 14,
   "metadata": {},
   "outputs": [],
   "source": [
    "Adam = keras.optimizers.Adam(lr=0.0001)"
   ]
  },
  {
   "cell_type": "code",
   "execution_count": 15,
   "metadata": {},
   "outputs": [],
   "source": [
    "model.compile(loss='categorical_crossentropy', optimizer=Adadelta, metrics=[categorical_accuracy])"
   ]
  },
  {
   "cell_type": "code",
   "execution_count": 16,
   "metadata": {},
   "outputs": [
    {
     "name": "stdout",
     "output_type": "stream",
     "text": [
      "Train on 50000 samples, validate on 10000 samples\n",
      "Epoch 1/100\n",
      "50000/50000 [==============================] - 33s 651us/step - loss: 0.6478 - categorical_accuracy: 0.7814 - val_loss: 0.6103 - val_categorical_accuracy: 0.7943\n",
      "Epoch 2/100\n",
      "50000/50000 [==============================] - 31s 616us/step - loss: 0.6421 - categorical_accuracy: 0.7814 - val_loss: 0.6028 - val_categorical_accuracy: 0.7960\n",
      "Epoch 3/100\n",
      "50000/50000 [==============================] - 31s 614us/step - loss: 0.6384 - categorical_accuracy: 0.7833 - val_loss: 0.6275 - val_categorical_accuracy: 0.7882\n",
      "Epoch 4/100\n",
      "50000/50000 [==============================] - 31s 613us/step - loss: 0.6339 - categorical_accuracy: 0.7852 - val_loss: 0.7654 - val_categorical_accuracy: 0.7453\n",
      "Epoch 5/100\n",
      "50000/50000 [==============================] - 31s 612us/step - loss: 0.6319 - categorical_accuracy: 0.7856 - val_loss: 0.5885 - val_categorical_accuracy: 0.7987\n",
      "Epoch 6/100\n",
      "50000/50000 [==============================] - 31s 612us/step - loss: 0.6370 - categorical_accuracy: 0.7838 - val_loss: 0.6003 - val_categorical_accuracy: 0.7982\n",
      "Epoch 7/100\n",
      "50000/50000 [==============================] - 31s 613us/step - loss: 0.6257 - categorical_accuracy: 0.7880 - val_loss: 0.6112 - val_categorical_accuracy: 0.7944\n",
      "Epoch 8/100\n",
      "50000/50000 [==============================] - 31s 613us/step - loss: 0.6273 - categorical_accuracy: 0.7896 - val_loss: 0.5853 - val_categorical_accuracy: 0.7982\n",
      "Epoch 9/100\n",
      "50000/50000 [==============================] - 31s 612us/step - loss: 0.6270 - categorical_accuracy: 0.7869 - val_loss: 0.6549 - val_categorical_accuracy: 0.7779\n",
      "Epoch 10/100\n",
      "50000/50000 [==============================] - 30s 610us/step - loss: 0.6214 - categorical_accuracy: 0.7903 - val_loss: 0.6496 - val_categorical_accuracy: 0.7788\n",
      "Epoch 11/100\n",
      "50000/50000 [==============================] - 31s 612us/step - loss: 0.6166 - categorical_accuracy: 0.7937 - val_loss: 0.5769 - val_categorical_accuracy: 0.8026\n",
      "Epoch 12/100\n",
      "50000/50000 [==============================] - 31s 612us/step - loss: 0.6204 - categorical_accuracy: 0.7905 - val_loss: 0.6252 - val_categorical_accuracy: 0.7955\n",
      "Epoch 13/100\n",
      "50000/50000 [==============================] - 31s 614us/step - loss: 0.6131 - categorical_accuracy: 0.7919 - val_loss: 0.6898 - val_categorical_accuracy: 0.7656\n",
      "Epoch 14/100\n",
      "50000/50000 [==============================] - 31s 611us/step - loss: 0.6152 - categorical_accuracy: 0.7927 - val_loss: 0.6024 - val_categorical_accuracy: 0.7964\n",
      "Epoch 15/100\n",
      "50000/50000 [==============================] - 30s 609us/step - loss: 0.6202 - categorical_accuracy: 0.7878 - val_loss: 0.6207 - val_categorical_accuracy: 0.7854\n",
      "Epoch 16/100\n",
      "50000/50000 [==============================] - 31s 613us/step - loss: 0.6141 - categorical_accuracy: 0.7931 - val_loss: 0.7179 - val_categorical_accuracy: 0.7605\n",
      "Epoch 17/100\n",
      "50000/50000 [==============================] - 30s 607us/step - loss: 0.6089 - categorical_accuracy: 0.7939 - val_loss: 0.6955 - val_categorical_accuracy: 0.7641\n",
      "Epoch 18/100\n",
      "50000/50000 [==============================] - 31s 620us/step - loss: 0.6080 - categorical_accuracy: 0.7940 - val_loss: 0.5888 - val_categorical_accuracy: 0.8001\n",
      "Epoch 19/100\n",
      "50000/50000 [==============================] - 31s 617us/step - loss: 0.6066 - categorical_accuracy: 0.7953 - val_loss: 0.6667 - val_categorical_accuracy: 0.7794\n",
      "Epoch 20/100\n",
      "50000/50000 [==============================] - 31s 615us/step - loss: 0.6040 - categorical_accuracy: 0.7949 - val_loss: 0.5658 - val_categorical_accuracy: 0.8134\n",
      "Epoch 21/100\n",
      "50000/50000 [==============================] - 31s 612us/step - loss: 0.6010 - categorical_accuracy: 0.7957 - val_loss: 0.6000 - val_categorical_accuracy: 0.7997\n",
      "Epoch 22/100\n",
      "50000/50000 [==============================] - 31s 619us/step - loss: 0.5955 - categorical_accuracy: 0.7971 - val_loss: 0.6614 - val_categorical_accuracy: 0.7783\n",
      "Epoch 23/100\n",
      "50000/50000 [==============================] - 31s 621us/step - loss: 0.6021 - categorical_accuracy: 0.7958 - val_loss: 0.6354 - val_categorical_accuracy: 0.7864\n",
      "Epoch 24/100\n",
      "50000/50000 [==============================] - 31s 610us/step - loss: 0.5992 - categorical_accuracy: 0.7962 - val_loss: 0.5888 - val_categorical_accuracy: 0.7980\n",
      "Epoch 25/100\n",
      "50000/50000 [==============================] - 31s 615us/step - loss: 0.5946 - categorical_accuracy: 0.7973 - val_loss: 0.5621 - val_categorical_accuracy: 0.8105\n",
      "Epoch 26/100\n",
      "50000/50000 [==============================] - 31s 618us/step - loss: 0.5963 - categorical_accuracy: 0.7985 - val_loss: 0.6141 - val_categorical_accuracy: 0.7988\n",
      "Epoch 27/100\n",
      "50000/50000 [==============================] - 31s 613us/step - loss: 0.5928 - categorical_accuracy: 0.8004 - val_loss: 0.5430 - val_categorical_accuracy: 0.8163\n",
      "Epoch 28/100\n",
      "50000/50000 [==============================] - 31s 610us/step - loss: 0.5896 - categorical_accuracy: 0.8001 - val_loss: 0.5839 - val_categorical_accuracy: 0.8041\n",
      "Epoch 29/100\n",
      "50000/50000 [==============================] - 30s 609us/step - loss: 0.5854 - categorical_accuracy: 0.8015 - val_loss: 0.5857 - val_categorical_accuracy: 0.8033\n",
      "Epoch 30/100\n",
      "50000/50000 [==============================] - 31s 611us/step - loss: 0.5852 - categorical_accuracy: 0.8021 - val_loss: 0.5987 - val_categorical_accuracy: 0.8004\n",
      "Epoch 31/100\n",
      "50000/50000 [==============================] - 30s 609us/step - loss: 0.5842 - categorical_accuracy: 0.8021 - val_loss: 0.5535 - val_categorical_accuracy: 0.8152\n",
      "Epoch 32/100\n",
      "50000/50000 [==============================] - 30s 608us/step - loss: 0.5877 - categorical_accuracy: 0.8001 - val_loss: 0.6392 - val_categorical_accuracy: 0.7870\n",
      "Epoch 33/100\n",
      "50000/50000 [==============================] - 30s 609us/step - loss: 0.5834 - categorical_accuracy: 0.7980 - val_loss: 0.5668 - val_categorical_accuracy: 0.8108\n",
      "Epoch 34/100\n",
      "50000/50000 [==============================] - 30s 609us/step - loss: 0.5837 - categorical_accuracy: 0.8025 - val_loss: 0.5576 - val_categorical_accuracy: 0.8138\n",
      "Epoch 35/100\n",
      "50000/50000 [==============================] - 31s 622us/step - loss: 0.5863 - categorical_accuracy: 0.8012 - val_loss: 0.5780 - val_categorical_accuracy: 0.8042\n",
      "Epoch 36/100\n",
      "50000/50000 [==============================] - 30s 610us/step - loss: 0.5867 - categorical_accuracy: 0.8026 - val_loss: 0.6917 - val_categorical_accuracy: 0.7711\n",
      "Epoch 37/100\n",
      "50000/50000 [==============================] - 31s 611us/step - loss: 0.5813 - categorical_accuracy: 0.8058 - val_loss: 0.6153 - val_categorical_accuracy: 0.7934\n",
      "Epoch 38/100\n",
      "50000/50000 [==============================] - 31s 611us/step - loss: 0.5757 - categorical_accuracy: 0.8055 - val_loss: 0.5943 - val_categorical_accuracy: 0.8013\n",
      "Epoch 39/100\n",
      "50000/50000 [==============================] - 31s 619us/step - loss: 0.5705 - categorical_accuracy: 0.8059 - val_loss: 0.5444 - val_categorical_accuracy: 0.8222\n",
      "Epoch 40/100\n",
      "50000/50000 [==============================] - 31s 615us/step - loss: 0.5758 - categorical_accuracy: 0.8055 - val_loss: 0.5781 - val_categorical_accuracy: 0.8054\n",
      "Epoch 41/100\n",
      "50000/50000 [==============================] - 31s 612us/step - loss: 0.5768 - categorical_accuracy: 0.8048 - val_loss: 0.7085 - val_categorical_accuracy: 0.7664\n",
      "Epoch 42/100\n",
      "50000/50000 [==============================] - 31s 618us/step - loss: 0.5797 - categorical_accuracy: 0.8057 - val_loss: 0.6098 - val_categorical_accuracy: 0.7949\n",
      "Epoch 43/100\n",
      "50000/50000 [==============================] - 31s 615us/step - loss: 0.5770 - categorical_accuracy: 0.8048 - val_loss: 0.5991 - val_categorical_accuracy: 0.8002\n",
      "Epoch 44/100\n",
      "50000/50000 [==============================] - 31s 613us/step - loss: 0.5707 - categorical_accuracy: 0.8080 - val_loss: 0.5961 - val_categorical_accuracy: 0.8001\n",
      "Epoch 45/100\n",
      "50000/50000 [==============================] - 31s 611us/step - loss: 0.5676 - categorical_accuracy: 0.8090 - val_loss: 0.6620 - val_categorical_accuracy: 0.7787\n",
      "Epoch 46/100\n",
      "50000/50000 [==============================] - 31s 612us/step - loss: 0.5701 - categorical_accuracy: 0.8060 - val_loss: 0.6297 - val_categorical_accuracy: 0.7926\n",
      "Epoch 47/100\n"
     ]
    },
    {
     "name": "stdout",
     "output_type": "stream",
     "text": [
      "50000/50000 [==============================] - 31s 611us/step - loss: 0.5729 - categorical_accuracy: 0.8055 - val_loss: 0.6215 - val_categorical_accuracy: 0.7899\n",
      "Epoch 48/100\n",
      "50000/50000 [==============================] - 30s 607us/step - loss: 0.5726 - categorical_accuracy: 0.8083 - val_loss: 0.5978 - val_categorical_accuracy: 0.7989\n",
      "Epoch 49/100\n",
      "50000/50000 [==============================] - 31s 611us/step - loss: 0.5661 - categorical_accuracy: 0.8095 - val_loss: 0.5388 - val_categorical_accuracy: 0.8196\n",
      "Epoch 50/100\n",
      "50000/50000 [==============================] - 31s 610us/step - loss: 0.5692 - categorical_accuracy: 0.8066 - val_loss: 0.5453 - val_categorical_accuracy: 0.8180\n",
      "Epoch 51/100\n",
      "50000/50000 [==============================] - 31s 615us/step - loss: 0.5665 - categorical_accuracy: 0.8087 - val_loss: 0.5700 - val_categorical_accuracy: 0.8101\n",
      "Epoch 52/100\n",
      "50000/50000 [==============================] - 30s 598us/step - loss: 0.5623 - categorical_accuracy: 0.8113 - val_loss: 0.5555 - val_categorical_accuracy: 0.8174\n",
      "Epoch 53/100\n",
      "50000/50000 [==============================] - 31s 611us/step - loss: 0.5670 - categorical_accuracy: 0.8085 - val_loss: 0.5693 - val_categorical_accuracy: 0.8098\n",
      "Epoch 54/100\n",
      "50000/50000 [==============================] - 31s 611us/step - loss: 0.5634 - categorical_accuracy: 0.8071 - val_loss: 0.5961 - val_categorical_accuracy: 0.8004\n",
      "Epoch 55/100\n",
      "50000/50000 [==============================] - 31s 610us/step - loss: 0.5580 - categorical_accuracy: 0.8119 - val_loss: 0.7506 - val_categorical_accuracy: 0.7595\n",
      "Epoch 56/100\n",
      "50000/50000 [==============================] - 31s 611us/step - loss: 0.5576 - categorical_accuracy: 0.8102 - val_loss: 0.6429 - val_categorical_accuracy: 0.7891\n",
      "Epoch 57/100\n",
      "50000/50000 [==============================] - 31s 616us/step - loss: 0.5599 - categorical_accuracy: 0.8116 - val_loss: 0.5547 - val_categorical_accuracy: 0.8178\n",
      "Epoch 58/100\n",
      "50000/50000 [==============================] - 31s 620us/step - loss: 0.5528 - categorical_accuracy: 0.8128 - val_loss: 0.6245 - val_categorical_accuracy: 0.7908\n",
      "Epoch 59/100\n",
      "50000/50000 [==============================] - 31s 612us/step - loss: 0.5607 - categorical_accuracy: 0.8106 - val_loss: 0.5683 - val_categorical_accuracy: 0.8091\n",
      "Epoch 60/100\n",
      "50000/50000 [==============================] - 31s 621us/step - loss: 0.5560 - categorical_accuracy: 0.8133 - val_loss: 0.6780 - val_categorical_accuracy: 0.7787\n",
      "Epoch 61/100\n",
      "50000/50000 [==============================] - 30s 610us/step - loss: 0.5522 - categorical_accuracy: 0.8131 - val_loss: 0.5521 - val_categorical_accuracy: 0.8167\n",
      "Epoch 62/100\n",
      "50000/50000 [==============================] - 31s 616us/step - loss: 0.5529 - categorical_accuracy: 0.8147 - val_loss: 0.5785 - val_categorical_accuracy: 0.8070\n",
      "Epoch 63/100\n",
      "50000/50000 [==============================] - 31s 613us/step - loss: 0.5552 - categorical_accuracy: 0.8126 - val_loss: 0.5749 - val_categorical_accuracy: 0.8087\n",
      "Epoch 64/100\n",
      "50000/50000 [==============================] - 30s 608us/step - loss: 0.5534 - categorical_accuracy: 0.8126 - val_loss: 0.5776 - val_categorical_accuracy: 0.8075\n",
      "Epoch 65/100\n",
      "50000/50000 [==============================] - 30s 610us/step - loss: 0.5525 - categorical_accuracy: 0.8137 - val_loss: 0.5424 - val_categorical_accuracy: 0.8194\n",
      "Epoch 66/100\n",
      "50000/50000 [==============================] - 31s 614us/step - loss: 0.5544 - categorical_accuracy: 0.8130 - val_loss: 0.5470 - val_categorical_accuracy: 0.8128\n",
      "Epoch 67/100\n",
      "50000/50000 [==============================] - 31s 611us/step - loss: 0.5494 - categorical_accuracy: 0.8144 - val_loss: 0.5463 - val_categorical_accuracy: 0.8165\n",
      "Epoch 68/100\n",
      "50000/50000 [==============================] - 31s 621us/step - loss: 0.5540 - categorical_accuracy: 0.8126 - val_loss: 0.5578 - val_categorical_accuracy: 0.8151\n",
      "Epoch 69/100\n",
      "50000/50000 [==============================] - 31s 615us/step - loss: 0.5492 - categorical_accuracy: 0.8118 - val_loss: 0.6021 - val_categorical_accuracy: 0.8029\n",
      "Epoch 70/100\n",
      "50000/50000 [==============================] - 31s 620us/step - loss: 0.5496 - categorical_accuracy: 0.8152 - val_loss: 0.6135 - val_categorical_accuracy: 0.7942\n",
      "Epoch 71/100\n",
      "50000/50000 [==============================] - 31s 622us/step - loss: 0.5483 - categorical_accuracy: 0.8144 - val_loss: 0.5583 - val_categorical_accuracy: 0.8119\n",
      "Epoch 72/100\n",
      "50000/50000 [==============================] - 31s 621us/step - loss: 0.5448 - categorical_accuracy: 0.8156 - val_loss: 0.5752 - val_categorical_accuracy: 0.8055\n",
      "Epoch 73/100\n",
      "50000/50000 [==============================] - 31s 623us/step - loss: 0.5521 - categorical_accuracy: 0.8119 - val_loss: 0.5484 - val_categorical_accuracy: 0.8158\n",
      "Epoch 74/100\n",
      "50000/50000 [==============================] - 31s 618us/step - loss: 0.5474 - categorical_accuracy: 0.8153 - val_loss: 0.5597 - val_categorical_accuracy: 0.8138\n",
      "Epoch 75/100\n",
      "50000/50000 [==============================] - 31s 618us/step - loss: 0.5433 - categorical_accuracy: 0.8151 - val_loss: 0.5563 - val_categorical_accuracy: 0.8151\n",
      "Epoch 76/100\n",
      "50000/50000 [==============================] - 31s 619us/step - loss: 0.5494 - categorical_accuracy: 0.8141 - val_loss: 0.5507 - val_categorical_accuracy: 0.8179\n",
      "Epoch 77/100\n",
      "50000/50000 [==============================] - 31s 623us/step - loss: 0.5459 - categorical_accuracy: 0.8154 - val_loss: 0.6169 - val_categorical_accuracy: 0.7977\n",
      "Epoch 78/100\n",
      "50000/50000 [==============================] - 31s 624us/step - loss: 0.5468 - categorical_accuracy: 0.8176 - val_loss: 0.5816 - val_categorical_accuracy: 0.8063\n",
      "Epoch 79/100\n",
      "50000/50000 [==============================] - 31s 612us/step - loss: 0.5452 - categorical_accuracy: 0.8160 - val_loss: 0.5402 - val_categorical_accuracy: 0.8210\n",
      "Epoch 80/100\n",
      "50000/50000 [==============================] - 31s 611us/step - loss: 0.5492 - categorical_accuracy: 0.8165 - val_loss: 0.5345 - val_categorical_accuracy: 0.8210\n",
      "Epoch 81/100\n",
      "50000/50000 [==============================] - 31s 613us/step - loss: 0.5437 - categorical_accuracy: 0.8160 - val_loss: 0.5891 - val_categorical_accuracy: 0.8048\n",
      "Epoch 82/100\n",
      "50000/50000 [==============================] - 31s 611us/step - loss: 0.5403 - categorical_accuracy: 0.8169 - val_loss: 0.6196 - val_categorical_accuracy: 0.7959\n",
      "Epoch 83/100\n",
      "50000/50000 [==============================] - 31s 612us/step - loss: 0.5377 - categorical_accuracy: 0.8196 - val_loss: 0.5757 - val_categorical_accuracy: 0.8108\n",
      "Epoch 84/100\n",
      "50000/50000 [==============================] - 31s 612us/step - loss: 0.5390 - categorical_accuracy: 0.8182 - val_loss: 0.5813 - val_categorical_accuracy: 0.8052\n",
      "Epoch 85/100\n",
      "50000/50000 [==============================] - 31s 610us/step - loss: 0.5375 - categorical_accuracy: 0.8188 - val_loss: 0.6219 - val_categorical_accuracy: 0.7955\n",
      "Epoch 86/100\n",
      "50000/50000 [==============================] - 31s 611us/step - loss: 0.5368 - categorical_accuracy: 0.8178 - val_loss: 0.5588 - val_categorical_accuracy: 0.8135\n",
      "Epoch 87/100\n",
      "50000/50000 [==============================] - 31s 612us/step - loss: 0.5386 - categorical_accuracy: 0.8193 - val_loss: 0.5868 - val_categorical_accuracy: 0.8026\n",
      "Epoch 88/100\n",
      "50000/50000 [==============================] - 31s 612us/step - loss: 0.5400 - categorical_accuracy: 0.8179 - val_loss: 0.5502 - val_categorical_accuracy: 0.8149\n",
      "Epoch 89/100\n",
      "50000/50000 [==============================] - 31s 612us/step - loss: 0.5351 - categorical_accuracy: 0.8199 - val_loss: 0.5918 - val_categorical_accuracy: 0.8051\n",
      "Epoch 90/100\n",
      "50000/50000 [==============================] - 30s 610us/step - loss: 0.5361 - categorical_accuracy: 0.8167 - val_loss: 0.5395 - val_categorical_accuracy: 0.8189\n",
      "Epoch 91/100\n",
      "50000/50000 [==============================] - 30s 609us/step - loss: 0.5347 - categorical_accuracy: 0.8172 - val_loss: 0.5927 - val_categorical_accuracy: 0.8043\n",
      "Epoch 92/100\n",
      "50000/50000 [==============================] - 31s 610us/step - loss: 0.5334 - categorical_accuracy: 0.8180 - val_loss: 0.5813 - val_categorical_accuracy: 0.8114\n",
      "Epoch 93/100\n",
      "50000/50000 [==============================] - 30s 609us/step - loss: 0.5383 - categorical_accuracy: 0.8191 - val_loss: 0.5928 - val_categorical_accuracy: 0.8031\n"
     ]
    },
    {
     "name": "stdout",
     "output_type": "stream",
     "text": [
      "Epoch 94/100\n",
      "50000/50000 [==============================] - 30s 609us/step - loss: 0.5329 - categorical_accuracy: 0.8233 - val_loss: 0.5387 - val_categorical_accuracy: 0.8174\n",
      "Epoch 95/100\n",
      "50000/50000 [==============================] - 30s 609us/step - loss: 0.5303 - categorical_accuracy: 0.8202 - val_loss: 0.5617 - val_categorical_accuracy: 0.8105\n",
      "Epoch 96/100\n",
      "50000/50000 [==============================] - 30s 609us/step - loss: 0.5317 - categorical_accuracy: 0.8186 - val_loss: 0.5432 - val_categorical_accuracy: 0.8186\n",
      "Epoch 97/100\n",
      "50000/50000 [==============================] - 31s 612us/step - loss: 0.5310 - categorical_accuracy: 0.8200 - val_loss: 0.5583 - val_categorical_accuracy: 0.8114\n",
      "Epoch 98/100\n",
      "50000/50000 [==============================] - 31s 610us/step - loss: 0.5298 - categorical_accuracy: 0.8210 - val_loss: 0.5583 - val_categorical_accuracy: 0.8169\n",
      "Epoch 99/100\n",
      "50000/50000 [==============================] - 30s 610us/step - loss: 0.5344 - categorical_accuracy: 0.8197 - val_loss: 0.5476 - val_categorical_accuracy: 0.8170\n",
      "Epoch 100/100\n",
      "50000/50000 [==============================] - 31s 612us/step - loss: 0.5363 - categorical_accuracy: 0.8187 - val_loss: 0.5382 - val_categorical_accuracy: 0.8206\n"
     ]
    }
   ],
   "source": [
    "# Train the model\n",
    "start = datetime.now()\n",
    "model_info_2 = model.fit(train_features, train_labels, \n",
    "                       batch_size=32, epochs=100, \n",
    "                       validation_data = (test_features, test_labels), \n",
    "                       verbose=1)\n",
    "end = datetime.now()"
   ]
  },
  {
   "cell_type": "code",
   "execution_count": null,
   "metadata": {},
   "outputs": [],
   "source": []
  }
 ],
 "metadata": {
  "kernelspec": {
   "display_name": "Python 3",
   "language": "python",
   "name": "python3"
  },
  "language_info": {
   "codemirror_mode": {
    "name": "ipython",
    "version": 3
   },
   "file_extension": ".py",
   "mimetype": "text/x-python",
   "name": "python",
   "nbconvert_exporter": "python",
   "pygments_lexer": "ipython3",
   "version": "3.6.5"
  }
 },
 "nbformat": 4,
 "nbformat_minor": 2
}
